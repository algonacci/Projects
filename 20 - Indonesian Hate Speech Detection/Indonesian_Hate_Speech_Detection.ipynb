{
 "cells": [
  {
   "cell_type": "markdown",
   "id": "01b533ae",
   "metadata": {},
   "source": [
    "### Import Libraries and Dataset"
   ]
  },
  {
   "cell_type": "code",
   "execution_count": 1,
   "id": "c5a90314",
   "metadata": {},
   "outputs": [],
   "source": [
    "import pandas as pd\n",
    "import numpy as np\n",
    "\n",
    "# visualization\n",
    "import matplotlib.pyplot as plt\n",
    "import seaborn as sns\n",
    "%matplotlib inline\n",
    "sns.set(style='darkgrid')\n",
    "\n",
    "import warnings\n",
    "warnings.filterwarnings('ignore')"
   ]
  },
  {
   "cell_type": "code",
   "execution_count": 2,
   "id": "34d873f2",
   "metadata": {},
   "outputs": [
    {
     "data": {
      "text/html": [
       "<div>\n",
       "<style scoped>\n",
       "    .dataframe tbody tr th:only-of-type {\n",
       "        vertical-align: middle;\n",
       "    }\n",
       "\n",
       "    .dataframe tbody tr th {\n",
       "        vertical-align: top;\n",
       "    }\n",
       "\n",
       "    .dataframe thead th {\n",
       "        text-align: right;\n",
       "    }\n",
       "</style>\n",
       "<table border=\"1\" class=\"dataframe\">\n",
       "  <thead>\n",
       "    <tr style=\"text-align: right;\">\n",
       "      <th></th>\n",
       "      <th>Label</th>\n",
       "      <th>Tweet</th>\n",
       "    </tr>\n",
       "  </thead>\n",
       "  <tbody>\n",
       "    <tr>\n",
       "      <th>0</th>\n",
       "      <td>Non_HS</td>\n",
       "      <td>RT @spardaxyz: Fadli Zon Minta Mendagri Segera...</td>\n",
       "    </tr>\n",
       "    <tr>\n",
       "      <th>1</th>\n",
       "      <td>Non_HS</td>\n",
       "      <td>RT @baguscondromowo: Mereka terus melukai aksi...</td>\n",
       "    </tr>\n",
       "    <tr>\n",
       "      <th>2</th>\n",
       "      <td>Non_HS</td>\n",
       "      <td>Sylvi: bagaimana gurbernur melakukan kekerasan...</td>\n",
       "    </tr>\n",
       "    <tr>\n",
       "      <th>3</th>\n",
       "      <td>Non_HS</td>\n",
       "      <td>Ahmad Dhani Tak Puas Debat Pilkada, Masalah Ja...</td>\n",
       "    </tr>\n",
       "    <tr>\n",
       "      <th>4</th>\n",
       "      <td>Non_HS</td>\n",
       "      <td>RT @lisdaulay28: Waspada KTP palsu.....kawal P...</td>\n",
       "    </tr>\n",
       "  </tbody>\n",
       "</table>\n",
       "</div>"
      ],
      "text/plain": [
       "    Label                                              Tweet\n",
       "0  Non_HS  RT @spardaxyz: Fadli Zon Minta Mendagri Segera...\n",
       "1  Non_HS  RT @baguscondromowo: Mereka terus melukai aksi...\n",
       "2  Non_HS  Sylvi: bagaimana gurbernur melakukan kekerasan...\n",
       "3  Non_HS  Ahmad Dhani Tak Puas Debat Pilkada, Masalah Ja...\n",
       "4  Non_HS  RT @lisdaulay28: Waspada KTP palsu.....kawal P..."
      ]
     },
     "execution_count": 2,
     "metadata": {},
     "output_type": "execute_result"
    }
   ],
   "source": [
    "tweet_df = pd.read_csv('https://raw.githubusercontent.com/GigasTaufan/Indonesian-Hate-Speech-Classification/master/hate_speech_dataset.csv')\n",
    "tweet_df.head()"
   ]
  },
  {
   "cell_type": "markdown",
   "id": "65e496ae",
   "metadata": {},
   "source": [
    "- There are 2 columns, label and tweet.\n",
    "- Non_HS class categorize tweets that are not hate speech.\n",
    "- HS class categorize tweets as hate speech."
   ]
  },
  {
   "cell_type": "code",
   "execution_count": 3,
   "id": "04245dbb",
   "metadata": {},
   "outputs": [
    {
     "data": {
      "text/html": [
       "<div>\n",
       "<style scoped>\n",
       "    .dataframe tbody tr th:only-of-type {\n",
       "        vertical-align: middle;\n",
       "    }\n",
       "\n",
       "    .dataframe tbody tr th {\n",
       "        vertical-align: top;\n",
       "    }\n",
       "\n",
       "    .dataframe thead th {\n",
       "        text-align: right;\n",
       "    }\n",
       "</style>\n",
       "<table border=\"1\" class=\"dataframe\">\n",
       "  <thead>\n",
       "    <tr style=\"text-align: right;\">\n",
       "      <th></th>\n",
       "      <th>Label</th>\n",
       "      <th>Tweet</th>\n",
       "    </tr>\n",
       "  </thead>\n",
       "  <tbody>\n",
       "    <tr>\n",
       "      <th>0</th>\n",
       "      <td>Non_HS</td>\n",
       "      <td>RT @spardaxyz: Fadli Zon Minta Mendagri Segera...</td>\n",
       "    </tr>\n",
       "    <tr>\n",
       "      <th>1</th>\n",
       "      <td>Non_HS</td>\n",
       "      <td>RT @baguscondromowo: Mereka terus melukai aksi...</td>\n",
       "    </tr>\n",
       "    <tr>\n",
       "      <th>2</th>\n",
       "      <td>Non_HS</td>\n",
       "      <td>Sylvi: bagaimana gurbernur melakukan kekerasan...</td>\n",
       "    </tr>\n",
       "    <tr>\n",
       "      <th>3</th>\n",
       "      <td>Non_HS</td>\n",
       "      <td>Ahmad Dhani Tak Puas Debat Pilkada, Masalah Ja...</td>\n",
       "    </tr>\n",
       "    <tr>\n",
       "      <th>4</th>\n",
       "      <td>Non_HS</td>\n",
       "      <td>RT @lisdaulay28: Waspada KTP palsu.....kawal P...</td>\n",
       "    </tr>\n",
       "  </tbody>\n",
       "</table>\n",
       "</div>"
      ],
      "text/plain": [
       "    Label                                              Tweet\n",
       "0  Non_HS  RT @spardaxyz: Fadli Zon Minta Mendagri Segera...\n",
       "1  Non_HS  RT @baguscondromowo: Mereka terus melukai aksi...\n",
       "2  Non_HS  Sylvi: bagaimana gurbernur melakukan kekerasan...\n",
       "3  Non_HS  Ahmad Dhani Tak Puas Debat Pilkada, Masalah Ja...\n",
       "4  Non_HS  RT @lisdaulay28: Waspada KTP palsu.....kawal P..."
      ]
     },
     "execution_count": 3,
     "metadata": {},
     "output_type": "execute_result"
    }
   ],
   "source": [
    "# Examples of Non Hate Speech Tweets\n",
    "tweet_df[tweet_df['Label']=='Non_HS'].head()"
   ]
  },
  {
   "cell_type": "code",
   "execution_count": 4,
   "id": "a3d471f4",
   "metadata": {},
   "outputs": [
    {
     "data": {
      "text/plain": [
       "'RT @spardaxyz: Fadli Zon Minta Mendagri Segera Menonaktifkan Ahok Jadi Gubernur DKI https:\\\\/\\\\/t.co\\\\/KH5vIRwPdO'"
      ]
     },
     "execution_count": 4,
     "metadata": {},
     "output_type": "execute_result"
    }
   ],
   "source": [
    "tweet_df['Tweet'][0]"
   ]
  },
  {
   "cell_type": "code",
   "execution_count": 5,
   "id": "834bec81",
   "metadata": {},
   "outputs": [
    {
     "data": {
      "text/html": [
       "<div>\n",
       "<style scoped>\n",
       "    .dataframe tbody tr th:only-of-type {\n",
       "        vertical-align: middle;\n",
       "    }\n",
       "\n",
       "    .dataframe tbody tr th {\n",
       "        vertical-align: top;\n",
       "    }\n",
       "\n",
       "    .dataframe thead th {\n",
       "        text-align: right;\n",
       "    }\n",
       "</style>\n",
       "<table border=\"1\" class=\"dataframe\">\n",
       "  <thead>\n",
       "    <tr style=\"text-align: right;\">\n",
       "      <th></th>\n",
       "      <th>Label</th>\n",
       "      <th>Tweet</th>\n",
       "    </tr>\n",
       "  </thead>\n",
       "  <tbody>\n",
       "    <tr>\n",
       "      <th>453</th>\n",
       "      <td>HS</td>\n",
       "      <td>Ini pasti salah Jokowi, Ahok dan kafir-kafir a...</td>\n",
       "    </tr>\n",
       "    <tr>\n",
       "      <th>454</th>\n",
       "      <td>HS</td>\n",
       "      <td>@fahmiabuazzam1 biar aja biar tai nya kena bap...</td>\n",
       "    </tr>\n",
       "    <tr>\n",
       "      <th>455</th>\n",
       "      <td>HS</td>\n",
       "      <td>RT @BungWinar: Angin memporakporandakan basis ...</td>\n",
       "    </tr>\n",
       "    <tr>\n",
       "      <th>456</th>\n",
       "      <td>HS</td>\n",
       "      <td>RT @Lupuz0503: Prestasi Ahok, \\nSelain mjadi m...</td>\n",
       "    </tr>\n",
       "    <tr>\n",
       "      <th>457</th>\n",
       "      <td>HS</td>\n",
       "      <td>Ulama Kompak Nyatakan #HaramPemimpinKafir Pili...</td>\n",
       "    </tr>\n",
       "  </tbody>\n",
       "</table>\n",
       "</div>"
      ],
      "text/plain": [
       "    Label                                              Tweet\n",
       "453    HS  Ini pasti salah Jokowi, Ahok dan kafir-kafir a...\n",
       "454    HS  @fahmiabuazzam1 biar aja biar tai nya kena bap...\n",
       "455    HS  RT @BungWinar: Angin memporakporandakan basis ...\n",
       "456    HS  RT @Lupuz0503: Prestasi Ahok, \\nSelain mjadi m...\n",
       "457    HS  Ulama Kompak Nyatakan #HaramPemimpinKafir Pili..."
      ]
     },
     "execution_count": 5,
     "metadata": {},
     "output_type": "execute_result"
    }
   ],
   "source": [
    "# Examples of Hate Speech Tweets\n",
    "tweet_df[tweet_df['Label']=='HS'].head()"
   ]
  },
  {
   "cell_type": "code",
   "execution_count": 6,
   "id": "b661cf2d",
   "metadata": {},
   "outputs": [
    {
     "data": {
      "text/plain": [
       "'Ini pasti salah Jokowi, Ahok dan kafir-kafir ateis. https:\\\\/\\\\/t.co\\\\/v2GRcUeStI'"
      ]
     },
     "execution_count": 6,
     "metadata": {},
     "output_type": "execute_result"
    }
   ],
   "source": [
    "tweet_df['Tweet'][453]"
   ]
  },
  {
   "cell_type": "markdown",
   "id": "fed9f9fc",
   "metadata": {},
   "source": [
    "### Check Missing Values"
   ]
  },
  {
   "cell_type": "code",
   "execution_count": 7,
   "id": "42a0d8f3",
   "metadata": {},
   "outputs": [
    {
     "data": {
      "text/plain": [
       "Label    0\n",
       "Tweet    0\n",
       "dtype: int64"
      ]
     },
     "execution_count": 7,
     "metadata": {},
     "output_type": "execute_result"
    }
   ],
   "source": [
    "tweet_df.isnull().sum().sort_values(ascending=False)"
   ]
  },
  {
   "cell_type": "markdown",
   "id": "703188ff",
   "metadata": {},
   "source": [
    "### Class Distribution"
   ]
  },
  {
   "cell_type": "code",
   "execution_count": 8,
   "id": "879191d4",
   "metadata": {},
   "outputs": [
    {
     "name": "stdout",
     "output_type": "stream",
     "text": [
      "Non_HS    453\n",
      "HS        260\n",
      "Name: Label, dtype: int64\n",
      "\n",
      "\n",
      "AxesSubplot(0.125,0.125;0.775x0.755)\n"
     ]
    },
    {
     "data": {
      "image/png": "[encoded data removed]",
      "text/plain": [
       "<Figure size 432x288 with 1 Axes>"
      ]
     },
     "metadata": {},
     "output_type": "display_data"
    }
   ],
   "source": [
    "print(tweet_df['Label'].value_counts())\n",
    "print('\\n')\n",
    "print(sns.countplot(tweet_df['Label']))"
   ]
  },
  {
   "cell_type": "markdown",
   "id": "4743933a",
   "metadata": {},
   "source": [
    "- The number of Non_HS classes is more than the number of HS classes"
   ]
  },
  {
   "cell_type": "code",
   "execution_count": 9,
   "id": "39aab4f2",
   "metadata": {},
   "outputs": [
    {
     "name": "stdout",
     "output_type": "stream",
     "text": [
      "63.5343618513324\n",
      "28.697571743929362\n"
     ]
    }
   ],
   "source": [
    "total_non_HS = tweet_df[tweet_df['Label']=='Non_HS']['Label'].count()\n",
    "total_HS = tweet_df[tweet_df['Label']=='HS']['Label'].count()\n",
    "\n",
    "percent_Non_HS = (total_non_HS/(total_non_HS+total_HS)*100)\n",
    "percent_HS = (total_HS/(total_non_HS+total_non_HS))*100\n",
    "print(percent_Non_HS)\n",
    "print(percent_HS)"
   ]
  },
  {
   "cell_type": "markdown",
   "id": "34842f13",
   "metadata": {},
   "source": [
    "### Exploratory Data Analysis"
   ]
  },
  {
   "cell_type": "code",
   "execution_count": 10,
   "id": "fc7fb4bc",
   "metadata": {},
   "outputs": [
    {
     "name": "stdout",
     "output_type": "stream",
     "text": [
      "<class 'pandas.core.frame.DataFrame'>\n",
      "RangeIndex: 713 entries, 0 to 712\n",
      "Data columns (total 2 columns):\n",
      " #   Column  Non-Null Count  Dtype \n",
      "---  ------  --------------  ----- \n",
      " 0   Label   713 non-null    object\n",
      " 1   Tweet   713 non-null    object\n",
      "dtypes: object(2)\n",
      "memory usage: 11.3+ KB\n"
     ]
    }
   ],
   "source": [
    "# Info Dataset\n",
    "tweet_df.info()"
   ]
  },
  {
   "cell_type": "code",
   "execution_count": 11,
   "id": "d0ab31f3",
   "metadata": {},
   "outputs": [
    {
     "data": {
      "text/html": [
       "<div>\n",
       "<style scoped>\n",
       "    .dataframe tbody tr th:only-of-type {\n",
       "        vertical-align: middle;\n",
       "    }\n",
       "\n",
       "    .dataframe tbody tr th {\n",
       "        vertical-align: top;\n",
       "    }\n",
       "\n",
       "    .dataframe thead th {\n",
       "        text-align: right;\n",
       "    }\n",
       "</style>\n",
       "<table border=\"1\" class=\"dataframe\">\n",
       "  <thead>\n",
       "    <tr style=\"text-align: right;\">\n",
       "      <th></th>\n",
       "      <th>Label</th>\n",
       "      <th>Tweet</th>\n",
       "    </tr>\n",
       "  </thead>\n",
       "  <tbody>\n",
       "    <tr>\n",
       "      <th>count</th>\n",
       "      <td>713</td>\n",
       "      <td>713</td>\n",
       "    </tr>\n",
       "    <tr>\n",
       "      <th>unique</th>\n",
       "      <td>2</td>\n",
       "      <td>703</td>\n",
       "    </tr>\n",
       "    <tr>\n",
       "      <th>top</th>\n",
       "      <td>Non_HS</td>\n",
       "      <td>pertunjukan yang sangat membuat saya serius da...</td>\n",
       "    </tr>\n",
       "    <tr>\n",
       "      <th>freq</th>\n",
       "      <td>453</td>\n",
       "      <td>2</td>\n",
       "    </tr>\n",
       "  </tbody>\n",
       "</table>\n",
       "</div>"
      ],
      "text/plain": [
       "         Label                                              Tweet\n",
       "count      713                                                713\n",
       "unique       2                                                703\n",
       "top     Non_HS  pertunjukan yang sangat membuat saya serius da...\n",
       "freq       453                                                  2"
      ]
     },
     "execution_count": 11,
     "metadata": {},
     "output_type": "execute_result"
    }
   ],
   "source": [
    "tweet_df.describe()"
   ]
  },
  {
   "cell_type": "code",
   "execution_count": 12,
   "id": "591fdf1b",
   "metadata": {},
   "outputs": [
    {
     "data": {
      "text/plain": [
       "array([<AxesSubplot:title={'center':'HS'}>,\n",
       "       <AxesSubplot:title={'center':'Non_HS'}>], dtype=object)"
      ]
     },
     "execution_count": 12,
     "metadata": {},
     "output_type": "execute_result"
    },
    {
     "data": {
      "image/png": "[encoded data removed]",
      "text/plain": [
       "<Figure size 864x504 with 2 Axes>"
      ]
     },
     "metadata": {},
     "output_type": "display_data"
    }
   ],
   "source": [
    "tweet_df['length'] = tweet_df['Tweet'].apply(len)\n",
    "tweet_df.hist(column='length', by='Label', bins=30, figsize=(12,7))"
   ]
  },
  {
   "cell_type": "code",
   "execution_count": 13,
   "id": "736e86d8",
   "metadata": {},
   "outputs": [
    {
     "data": {
      "image/png": "[encoded data removed]",
      "text/plain": [
       "<Figure size 432x288 with 1 Axes>"
      ]
     },
     "metadata": {},
     "output_type": "display_data"
    }
   ],
   "source": [
    "fig1 = sns.barplot(x='Label',y='length',data = tweet_df)\n",
    "plt.title('Average Word Length vs label')\n",
    "plot = fig1.get_figure()"
   ]
  },
  {
   "cell_type": "markdown",
   "id": "0e447821",
   "metadata": {},
   "source": [
    "### Data Preprocessing"
   ]
  },
  {
   "cell_type": "code",
   "execution_count": 14,
   "id": "79f8bee6",
   "metadata": {},
   "outputs": [],
   "source": [
    "df = tweet_df.copy()"
   ]
  },
  {
   "cell_type": "code",
   "execution_count": 15,
   "id": "769bba96",
   "metadata": {},
   "outputs": [],
   "source": [
    "import re\n",
    "\n",
    "def case_folding(data):\n",
    "  temp_tweet = []\n",
    "\n",
    "  for tw in data:\n",
    "    # removal of @name[mention]\n",
    "    tw = re.sub(r\"(?:\\@|https?\\://)\\S+\", \"\", tw)\n",
    "\n",
    "    # removal of links[https://blabala.com]\n",
    "    # tw = re.sub(r\"http[s]?://(?:[a-zA-Z]|[0-9]|[$-_@.&+]|[!*\\(\\),]|(?:%[0-9a-fA-F][0-9a-fA-F]))+\", \"\", tw)\n",
    "    tw = re.sub(r\"http\\S+\", \"\", tw)\n",
    "\n",
    "    # removal of new line\n",
    "    tw = re.sub('\\n', '', tw)\n",
    "\n",
    "    # removal of RT\n",
    "    tw = re.sub('RT', '', tw)\n",
    "\n",
    "    # removal of punctuations and numbers\n",
    "    tw = re.sub(\"[^a-zA-Z^']\", \" \", tw)\n",
    "    tw = re.sub(\" {2,}\", \" \", tw)\n",
    "\n",
    "    # remove leading and trailing whitespace\n",
    "    tw = tw.strip()\n",
    "\n",
    "    # remove whitespace with a single space\n",
    "    tw = re.sub(r'\\s+', ' ', tw)\n",
    "\n",
    "    # convert text to Lowercase\n",
    "    tw = tw.lower();\n",
    "    temp_tweet.append(tw)\n",
    "  return temp_tweet"
   ]
  },
  {
   "cell_type": "code",
   "execution_count": 16,
   "id": "9e0667ea",
   "metadata": {},
   "outputs": [
    {
     "data": {
      "text/html": [
       "<div>\n",
       "<style scoped>\n",
       "    .dataframe tbody tr th:only-of-type {\n",
       "        vertical-align: middle;\n",
       "    }\n",
       "\n",
       "    .dataframe tbody tr th {\n",
       "        vertical-align: top;\n",
       "    }\n",
       "\n",
       "    .dataframe thead th {\n",
       "        text-align: right;\n",
       "    }\n",
       "</style>\n",
       "<table border=\"1\" class=\"dataframe\">\n",
       "  <thead>\n",
       "    <tr style=\"text-align: right;\">\n",
       "      <th></th>\n",
       "      <th>Label</th>\n",
       "      <th>Tweet</th>\n",
       "      <th>length</th>\n",
       "      <th>Case_folded</th>\n",
       "    </tr>\n",
       "  </thead>\n",
       "  <tbody>\n",
       "    <tr>\n",
       "      <th>0</th>\n",
       "      <td>Non_HS</td>\n",
       "      <td>RT @spardaxyz: Fadli Zon Minta Mendagri Segera...</td>\n",
       "      <td>110</td>\n",
       "      <td>fadli zon minta mendagri segera menonaktifkan ...</td>\n",
       "    </tr>\n",
       "    <tr>\n",
       "      <th>1</th>\n",
       "      <td>Non_HS</td>\n",
       "      <td>RT @baguscondromowo: Mereka terus melukai aksi...</td>\n",
       "      <td>108</td>\n",
       "      <td>mereka terus melukai aksi dalam rangka memenja...</td>\n",
       "    </tr>\n",
       "    <tr>\n",
       "      <th>2</th>\n",
       "      <td>Non_HS</td>\n",
       "      <td>Sylvi: bagaimana gurbernur melakukan kekerasan...</td>\n",
       "      <td>116</td>\n",
       "      <td>sylvi bagaimana gurbernur melakukan kekerasan ...</td>\n",
       "    </tr>\n",
       "    <tr>\n",
       "      <th>3</th>\n",
       "      <td>Non_HS</td>\n",
       "      <td>Ahmad Dhani Tak Puas Debat Pilkada, Masalah Ja...</td>\n",
       "      <td>115</td>\n",
       "      <td>ahmad dhani tak puas debat pilkada masalah jal...</td>\n",
       "    </tr>\n",
       "    <tr>\n",
       "      <th>4</th>\n",
       "      <td>Non_HS</td>\n",
       "      <td>RT @lisdaulay28: Waspada KTP palsu.....kawal P...</td>\n",
       "      <td>79</td>\n",
       "      <td>waspada ktp palsu kawal pilkada</td>\n",
       "    </tr>\n",
       "  </tbody>\n",
       "</table>\n",
       "</div>"
      ],
      "text/plain": [
       "    Label                                              Tweet  length  \\\n",
       "0  Non_HS  RT @spardaxyz: Fadli Zon Minta Mendagri Segera...     110   \n",
       "1  Non_HS  RT @baguscondromowo: Mereka terus melukai aksi...     108   \n",
       "2  Non_HS  Sylvi: bagaimana gurbernur melakukan kekerasan...     116   \n",
       "3  Non_HS  Ahmad Dhani Tak Puas Debat Pilkada, Masalah Ja...     115   \n",
       "4  Non_HS  RT @lisdaulay28: Waspada KTP palsu.....kawal P...      79   \n",
       "\n",
       "                                         Case_folded  \n",
       "0  fadli zon minta mendagri segera menonaktifkan ...  \n",
       "1  mereka terus melukai aksi dalam rangka memenja...  \n",
       "2  sylvi bagaimana gurbernur melakukan kekerasan ...  \n",
       "3  ahmad dhani tak puas debat pilkada masalah jal...  \n",
       "4                    waspada ktp palsu kawal pilkada  "
      ]
     },
     "execution_count": 16,
     "metadata": {},
     "output_type": "execute_result"
    }
   ],
   "source": [
    "df['Case_folded']=case_folding(df['Tweet'])\n",
    "df.head()"
   ]
  },
  {
   "cell_type": "markdown",
   "id": "416601b7",
   "metadata": {},
   "source": [
    "### Tokenization"
   ]
  },
  {
   "cell_type": "code",
   "execution_count": 17,
   "id": "7e0890b8",
   "metadata": {},
   "outputs": [
    {
     "name": "stderr",
     "output_type": "stream",
     "text": [
      "[nltk_data] Downloading package punkt to\n",
      "[nltk_data]     C:\\Users\\Client\\AppData\\Roaming\\nltk_data...\n",
      "[nltk_data]   Package punkt is already up-to-date!\n"
     ]
    },
    {
     "data": {
      "text/plain": [
       "True"
      ]
     },
     "execution_count": 17,
     "metadata": {},
     "output_type": "execute_result"
    }
   ],
   "source": [
    "import nltk\n",
    "nltk.download('punkt')"
   ]
  },
  {
   "cell_type": "code",
   "execution_count": 18,
   "id": "11972670",
   "metadata": {},
   "outputs": [],
   "source": [
    "def tokenized(data):\n",
    "    return data.apply(nltk.word_tokenize)"
   ]
  },
  {
   "cell_type": "code",
   "execution_count": 19,
   "id": "2cedb127",
   "metadata": {},
   "outputs": [
    {
     "data": {
      "text/html": [
       "<div>\n",
       "<style scoped>\n",
       "    .dataframe tbody tr th:only-of-type {\n",
       "        vertical-align: middle;\n",
       "    }\n",
       "\n",
       "    .dataframe tbody tr th {\n",
       "        vertical-align: top;\n",
       "    }\n",
       "\n",
       "    .dataframe thead th {\n",
       "        text-align: right;\n",
       "    }\n",
       "</style>\n",
       "<table border=\"1\" class=\"dataframe\">\n",
       "  <thead>\n",
       "    <tr style=\"text-align: right;\">\n",
       "      <th></th>\n",
       "      <th>Label</th>\n",
       "      <th>Tweet</th>\n",
       "      <th>length</th>\n",
       "      <th>Case_folded</th>\n",
       "      <th>Tokenized</th>\n",
       "    </tr>\n",
       "  </thead>\n",
       "  <tbody>\n",
       "    <tr>\n",
       "      <th>0</th>\n",
       "      <td>Non_HS</td>\n",
       "      <td>RT @spardaxyz: Fadli Zon Minta Mendagri Segera...</td>\n",
       "      <td>110</td>\n",
       "      <td>fadli zon minta mendagri segera menonaktifkan ...</td>\n",
       "      <td>[fadli, zon, minta, mendagri, segera, menonakt...</td>\n",
       "    </tr>\n",
       "    <tr>\n",
       "      <th>1</th>\n",
       "      <td>Non_HS</td>\n",
       "      <td>RT @baguscondromowo: Mereka terus melukai aksi...</td>\n",
       "      <td>108</td>\n",
       "      <td>mereka terus melukai aksi dalam rangka memenja...</td>\n",
       "      <td>[mereka, terus, melukai, aksi, dalam, rangka, ...</td>\n",
       "    </tr>\n",
       "    <tr>\n",
       "      <th>2</th>\n",
       "      <td>Non_HS</td>\n",
       "      <td>Sylvi: bagaimana gurbernur melakukan kekerasan...</td>\n",
       "      <td>116</td>\n",
       "      <td>sylvi bagaimana gurbernur melakukan kekerasan ...</td>\n",
       "      <td>[sylvi, bagaimana, gurbernur, melakukan, keker...</td>\n",
       "    </tr>\n",
       "    <tr>\n",
       "      <th>3</th>\n",
       "      <td>Non_HS</td>\n",
       "      <td>Ahmad Dhani Tak Puas Debat Pilkada, Masalah Ja...</td>\n",
       "      <td>115</td>\n",
       "      <td>ahmad dhani tak puas debat pilkada masalah jal...</td>\n",
       "      <td>[ahmad, dhani, tak, puas, debat, pilkada, masa...</td>\n",
       "    </tr>\n",
       "    <tr>\n",
       "      <th>4</th>\n",
       "      <td>Non_HS</td>\n",
       "      <td>RT @lisdaulay28: Waspada KTP palsu.....kawal P...</td>\n",
       "      <td>79</td>\n",
       "      <td>waspada ktp palsu kawal pilkada</td>\n",
       "      <td>[waspada, ktp, palsu, kawal, pilkada]</td>\n",
       "    </tr>\n",
       "  </tbody>\n",
       "</table>\n",
       "</div>"
      ],
      "text/plain": [
       "    Label                                              Tweet  length  \\\n",
       "0  Non_HS  RT @spardaxyz: Fadli Zon Minta Mendagri Segera...     110   \n",
       "1  Non_HS  RT @baguscondromowo: Mereka terus melukai aksi...     108   \n",
       "2  Non_HS  Sylvi: bagaimana gurbernur melakukan kekerasan...     116   \n",
       "3  Non_HS  Ahmad Dhani Tak Puas Debat Pilkada, Masalah Ja...     115   \n",
       "4  Non_HS  RT @lisdaulay28: Waspada KTP palsu.....kawal P...      79   \n",
       "\n",
       "                                         Case_folded  \\\n",
       "0  fadli zon minta mendagri segera menonaktifkan ...   \n",
       "1  mereka terus melukai aksi dalam rangka memenja...   \n",
       "2  sylvi bagaimana gurbernur melakukan kekerasan ...   \n",
       "3  ahmad dhani tak puas debat pilkada masalah jal...   \n",
       "4                    waspada ktp palsu kawal pilkada   \n",
       "\n",
       "                                           Tokenized  \n",
       "0  [fadli, zon, minta, mendagri, segera, menonakt...  \n",
       "1  [mereka, terus, melukai, aksi, dalam, rangka, ...  \n",
       "2  [sylvi, bagaimana, gurbernur, melakukan, keker...  \n",
       "3  [ahmad, dhani, tak, puas, debat, pilkada, masa...  \n",
       "4              [waspada, ktp, palsu, kawal, pilkada]  "
      ]
     },
     "execution_count": 19,
     "metadata": {},
     "output_type": "execute_result"
    }
   ],
   "source": [
    "df['Tokenized']=tokenized(df['Case_folded'])\n",
    "df.head()"
   ]
  },
  {
   "cell_type": "markdown",
   "id": "4e16b24d",
   "metadata": {},
   "source": [
    "### Stemming"
   ]
  },
  {
   "cell_type": "code",
   "execution_count": 20,
   "id": "981cbc5e",
   "metadata": {},
   "outputs": [],
   "source": [
    "from Sastrawi.Stemmer.StemmerFactory import StemmerFactory"
   ]
  },
  {
   "cell_type": "code",
   "execution_count": 21,
   "id": "66bd95be",
   "metadata": {},
   "outputs": [],
   "source": [
    "def stemming(data):\n",
    "    factory = StemmerFactory()\n",
    "    stemmer = factory.create_stemmer()\n",
    "    \n",
    "    return [stemmer.stem(tweet) for tweet in data]"
   ]
  },
  {
   "cell_type": "code",
   "execution_count": 22,
   "id": "87d277e9",
   "metadata": {},
   "outputs": [
    {
     "data": {
      "text/html": [
       "<div>\n",
       "<style scoped>\n",
       "    .dataframe tbody tr th:only-of-type {\n",
       "        vertical-align: middle;\n",
       "    }\n",
       "\n",
       "    .dataframe tbody tr th {\n",
       "        vertical-align: top;\n",
       "    }\n",
       "\n",
       "    .dataframe thead th {\n",
       "        text-align: right;\n",
       "    }\n",
       "</style>\n",
       "<table border=\"1\" class=\"dataframe\">\n",
       "  <thead>\n",
       "    <tr style=\"text-align: right;\">\n",
       "      <th></th>\n",
       "      <th>Label</th>\n",
       "      <th>Tweet</th>\n",
       "      <th>length</th>\n",
       "      <th>Case_folded</th>\n",
       "      <th>Tokenized</th>\n",
       "      <th>Stemmed</th>\n",
       "    </tr>\n",
       "  </thead>\n",
       "  <tbody>\n",
       "    <tr>\n",
       "      <th>0</th>\n",
       "      <td>Non_HS</td>\n",
       "      <td>RT @spardaxyz: Fadli Zon Minta Mendagri Segera...</td>\n",
       "      <td>110</td>\n",
       "      <td>fadli zon minta mendagri segera menonaktifkan ...</td>\n",
       "      <td>[fadli, zon, minta, mendagri, segera, menonakt...</td>\n",
       "      <td>[fadli, zon, minta, mendagri, segera, nonaktif...</td>\n",
       "    </tr>\n",
       "    <tr>\n",
       "      <th>1</th>\n",
       "      <td>Non_HS</td>\n",
       "      <td>RT @baguscondromowo: Mereka terus melukai aksi...</td>\n",
       "      <td>108</td>\n",
       "      <td>mereka terus melukai aksi dalam rangka memenja...</td>\n",
       "      <td>[mereka, terus, melukai, aksi, dalam, rangka, ...</td>\n",
       "      <td>[mereka, terus, luka, aksi, dalam, rangka, pen...</td>\n",
       "    </tr>\n",
       "    <tr>\n",
       "      <th>2</th>\n",
       "      <td>Non_HS</td>\n",
       "      <td>Sylvi: bagaimana gurbernur melakukan kekerasan...</td>\n",
       "      <td>116</td>\n",
       "      <td>sylvi bagaimana gurbernur melakukan kekerasan ...</td>\n",
       "      <td>[sylvi, bagaimana, gurbernur, melakukan, keker...</td>\n",
       "      <td>[sylvi, bagaimana, gurbernur, laku, keras, per...</td>\n",
       "    </tr>\n",
       "    <tr>\n",
       "      <th>3</th>\n",
       "      <td>Non_HS</td>\n",
       "      <td>Ahmad Dhani Tak Puas Debat Pilkada, Masalah Ja...</td>\n",
       "      <td>115</td>\n",
       "      <td>ahmad dhani tak puas debat pilkada masalah jal...</td>\n",
       "      <td>[ahmad, dhani, tak, puas, debat, pilkada, masa...</td>\n",
       "      <td>[ahmad, dhani, tak, puas, debat, pilkada, masa...</td>\n",
       "    </tr>\n",
       "    <tr>\n",
       "      <th>4</th>\n",
       "      <td>Non_HS</td>\n",
       "      <td>RT @lisdaulay28: Waspada KTP palsu.....kawal P...</td>\n",
       "      <td>79</td>\n",
       "      <td>waspada ktp palsu kawal pilkada</td>\n",
       "      <td>[waspada, ktp, palsu, kawal, pilkada]</td>\n",
       "      <td>[waspada, ktp, palsu, kawal, pilkada]</td>\n",
       "    </tr>\n",
       "  </tbody>\n",
       "</table>\n",
       "</div>"
      ],
      "text/plain": [
       "    Label                                              Tweet  length  \\\n",
       "0  Non_HS  RT @spardaxyz: Fadli Zon Minta Mendagri Segera...     110   \n",
       "1  Non_HS  RT @baguscondromowo: Mereka terus melukai aksi...     108   \n",
       "2  Non_HS  Sylvi: bagaimana gurbernur melakukan kekerasan...     116   \n",
       "3  Non_HS  Ahmad Dhani Tak Puas Debat Pilkada, Masalah Ja...     115   \n",
       "4  Non_HS  RT @lisdaulay28: Waspada KTP palsu.....kawal P...      79   \n",
       "\n",
       "                                         Case_folded  \\\n",
       "0  fadli zon minta mendagri segera menonaktifkan ...   \n",
       "1  mereka terus melukai aksi dalam rangka memenja...   \n",
       "2  sylvi bagaimana gurbernur melakukan kekerasan ...   \n",
       "3  ahmad dhani tak puas debat pilkada masalah jal...   \n",
       "4                    waspada ktp palsu kawal pilkada   \n",
       "\n",
       "                                           Tokenized  \\\n",
       "0  [fadli, zon, minta, mendagri, segera, menonakt...   \n",
       "1  [mereka, terus, melukai, aksi, dalam, rangka, ...   \n",
       "2  [sylvi, bagaimana, gurbernur, melakukan, keker...   \n",
       "3  [ahmad, dhani, tak, puas, debat, pilkada, masa...   \n",
       "4              [waspada, ktp, palsu, kawal, pilkada]   \n",
       "\n",
       "                                             Stemmed  \n",
       "0  [fadli, zon, minta, mendagri, segera, nonaktif...  \n",
       "1  [mereka, terus, luka, aksi, dalam, rangka, pen...  \n",
       "2  [sylvi, bagaimana, gurbernur, laku, keras, per...  \n",
       "3  [ahmad, dhani, tak, puas, debat, pilkada, masa...  \n",
       "4              [waspada, ktp, palsu, kawal, pilkada]  "
      ]
     },
     "execution_count": 22,
     "metadata": {},
     "output_type": "execute_result"
    }
   ],
   "source": [
    "df['Stemmed'] = df['Tokenized'].apply(stemming)\n",
    "df.head()"
   ]
  },
  {
   "cell_type": "markdown",
   "id": "a1a5b526",
   "metadata": {},
   "source": [
    "### Slang Words Removal"
   ]
  },
  {
   "cell_type": "code",
   "execution_count": 23,
   "id": "e5599d22",
   "metadata": {},
   "outputs": [],
   "source": [
    "import requests"
   ]
  },
  {
   "cell_type": "code",
   "execution_count": 24,
   "id": "e636f98f",
   "metadata": {},
   "outputs": [],
   "source": [
    "slang_word = requests.get('https://raw.githubusercontent.com/louisowen6/NLP_bahasa_resources/master/combined_slang_words.txt').text\n",
    "dict_slang = eval(slang_word)"
   ]
  },
  {
   "cell_type": "code",
   "execution_count": 25,
   "id": "cfd2fab6",
   "metadata": {},
   "outputs": [
    {
     "data": {
      "text/plain": [
       "dict_items([('@', 'di'), ('abis', 'habis'), ('ad', 'ada'), ('adlh', 'adalah'), ('afaik', 'as far as i know'), ('ahaha', 'haha'), ('aj', 'saja'), ('ajep-ajep', 'dunia gemerlap'), ('ak', 'saya'), ('akika', 'aku'), ('akkoh', 'aku'), ('akuwh', 'aku'), ('alay', 'norak'), ('alow', 'halo'), ('ambilin', 'ambilkan'), ('ancur', 'hancur'), ('anjrit', 'anjing'), ('anter', 'antar'), ('ap2', 'apa-apa'), ('apasih', 'apa sih'), ('apes', 'sial'), ('aps', 'apa'), ('aq', 'saya'), ('aquwh', 'aku'), ('asbun', 'asal bunyi'), ('aseekk', 'asyik'), ('asekk', 'asyik'), ('asem', 'asam'), ('aspal', 'asli tetapi palsu'), ('astul', 'asal tulis'), ('ato', 'atau'), ('au ah', 'tidak mau tahu'), ('awak', 'saya'), ('ay', 'sayang'), ('ayank', 'sayang'), ('b4', 'sebelum'), ('bakalan', 'akan'), ('bandes', 'bantuan desa'), ('bangedh', 'banget'), ('banpol', 'bantuan polisi'), ('banpur', 'bantuan tempur'), ('basbang', 'basi'), ('bcanda', 'bercanda'), ('bdg', 'bandung'), ('begajulan', 'nakal'), ('beliin', 'belikan'), ('bencong', 'banci'), ('bentar', 'sebentar'), ('ber3', 'bertiga'), ('beresin', 'membereskan'), ('bete', 'bosan'), ('beud', 'banget'), ('bg', 'abang'), ('bgmn', 'bagaimana'), ('bgt', 'banget'), ('bijimane', 'bagaimana'), ('bintal', 'bimbingan mental'), ('bkl', 'akan'), ('bknnya', 'bukannya'), ('blegug', 'bodoh'), ('blh', 'boleh'), ('bln', 'bulan'), ('blum', 'belum'), ('bnci', 'benci'), ('bnran', 'yang benar'), ('bodor', 'lucu'), ('bokap', 'ayah'), ('boker', 'buang air besar'), ('bokis', 'bohong'), ('boljug', 'boleh juga'), ('bonek', 'bocah nekat'), ('boyeh', 'boleh'), ('br', 'baru'), ('brg', 'bareng'), ('bro', 'saudara laki-laki'), ('bru', 'baru'), ('bs', 'bisa'), ('bsen', 'bosan'), ('bt', 'buat'), ('btw', 'ngomong-ngomong'), ('buaya', 'tidak setia'), ('bubbu', 'tidur'), ('bubu', 'tidur'), ('bumil', 'ibu hamil'), ('bw', 'bawa'), ('bwt', 'buat'), ('byk', 'banyak'), ('byrin', 'bayarkan'), ('cabal', 'sabar'), ('cadas', 'keren'), ('calo', 'makelar'), ('can', 'belum'), ('capcus', 'pergi'), ('caper', 'cari perhatian'), ('ce', 'cewek'), ('cekal', 'cegah tangkal'), ('cemen', 'penakut'), ('cengengesan', 'tertawa'), ('cepet', 'cepat'), ('cew', 'cewek'), ('chuyunk', 'sayang'), ('cimeng', 'ganja'), ('cipika cipiki', 'cium pipi kanan cium pipi kiri'), ('ciyh', 'sih'), ('ckepp', 'cakep'), ('ckp', 'cakep'), ('cmiiw', \"correct me if i'm wrong\"), ('cmpur', 'campur'), ('cong', 'banci'), ('conlok', 'cinta lokasi'), ('cowwyy', 'maaf'), ('cp', 'siapa'), ('cpe', 'capek'), ('cppe', 'capek'), ('cucok', 'cocok'), ('cuex', 'cuek'), ('cumi', 'Cuma miscall'), ('cups', 'culun'), ('curanmor', 'pencurian kendaraan bermotor'), ('curcol', 'curahan hati colongan'), ('cwek', 'cewek'), ('cyin', 'cinta'), ('d', 'di'), ('dah', 'deh'), ('dapet', 'dapat'), ('de', 'adik'), ('dek', 'adik'), ('demen', 'suka'), ('deyh', 'deh'), ('dgn', 'dengan'), ('diancurin', 'dihancurkan'), ('dimaafin', 'dimaafkan'), ('dimintak', 'diminta'), ('disono', 'di sana'), ('dket', 'dekat'), ('dkk', 'dan kawan-kawan'), ('dll', 'dan lain-lain'), ('dlu', 'dulu'), ('dngn', 'dengan'), ('dodol', 'bodoh'), ('doku', 'uang'), ('dongs', 'dong'), ('dpt', 'dapat'), ('dri', 'dari'), ('drmn', 'darimana'), ('drtd', 'dari tadi'), ('dst', 'dan seterusnya'), ('dtg', 'datang'), ('duh', 'aduh'), ('duren', 'durian'), ('ed', 'edisi'), ('egp', 'emang gue pikirin'), ('eke', 'aku'), ('elu', 'kamu'), ('emangnya', 'memangnya'), ('emng', 'memang'), ('endak', 'tidak'), ('enggak', 'tidak'), ('envy', 'iri'), ('ex', 'mantan'), ('fax', 'facsimile'), ('fifo', 'first in first out'), ('folbek', 'follow back'), ('fyi', 'sebagai informasi'), ('gaada', 'tidak ada uang'), ('gag', 'tidak'), ('gaje', 'tidak jelas'), ('gak papa', 'tidak apa-apa'), ('gan', 'juragan'), ('gaptek', 'gagap teknologi'), ('gatek', 'gagap teknologi'), ('gawe', 'kerja'), ('gbs', 'tidak bisa'), ('gebetan', 'orang yang disuka'), ('geje', 'tidak jelas'), ('gepeng', 'gelandangan dan pengemis'), ('ghiy', 'lagi'), ('gile', 'gila'), ('gimana', 'bagaimana'), ('gino', 'gigi nongol'), ('githu', 'gitu'), ('gj', 'tidak jelas'), ('gmana', 'bagaimana'), ('gn', 'begini'), ('goblok', 'bodoh'), ('golput', 'golongan putih'), ('gowes', 'mengayuh sepeda'), ('gpny', 'tidak punya'), ('gr', 'gede rasa'), ('gretongan', 'gratisan'), ('gtau', 'tidak tahu'), ('gua', 'saya'), ('guoblok', 'goblok'), ('gw', 'saya'), ('ha', 'tertawa'), ('haha', 'tertawa'), ('hallow', 'halo'), ('hankam', 'pertahanan dan keamanan'), ('hehe', 'he'), ('helo', 'halo'), ('hey', 'hai'), ('hlm', 'halaman'), ('hny', 'hanya'), ('hoax', 'isu bohong'), ('hr', 'hari'), ('hrus', 'harus'), ('hubdar', 'perhubungan darat'), ('huff', 'mengeluh'), ('hum', 'rumah'), ('humz', 'rumah'), ('ilang', 'hilang'), ('ilfil', 'tidak suka'), ('imho', 'in my humble opinion'), ('imoetz', 'imut'), ('item', 'hitam'), ('itungan', 'hitungan'), ('iye', 'iya'), ('ja', 'saja'), ('jadiin', 'jadi'), ('jaim', 'jaga image'), ('jayus', 'tidak lucu'), ('jdi', 'jadi'), ('jem', 'jam'), ('jga', 'juga'), ('jgnkan', 'jangankan'), ('jir', 'anjing'), ('jln', 'jalan'), ('jomblo', 'tidak punya pacar'), ('jubir', 'juru bicara'), ('jutek', 'galak'), ('k', 'ke'), ('kab', 'kabupaten'), ('kabor', 'kabur'), ('kacrut', 'kacau'), ('kadiv', 'kepala divisi'), ('kagak', 'tidak'), ('kalo', 'kalau'), ('kampret', 'sialan'), ('kamtibmas', 'keamanan dan ketertiban masyarakat'), ('kamuwh', 'kamu'), ('kanwil', 'kantor wilayah'), ('karna', 'karena'), ('kasubbag', 'kepala subbagian'), ('katrok', 'kampungan'), ('kayanya', 'kayaknya'), ('kbr', 'kabar'), ('kdu', 'harus'), ('kec', 'kecamatan'), ('kejurnas', 'kejuaraan nasional'), ('kekeuh', 'keras kepala'), ('kel', 'kelurahan'), ('kemaren', 'kemarin'), ('kepengen', 'mau'), ('kepingin', 'mau'), ('kepsek', 'kepala sekolah'), ('kesbang', 'kesatuan bangsa'), ('kesra', 'kesejahteraan rakyat'), ('ketrima', 'diterima'), ('kgiatan', 'kegiatan'), ('kibul', 'bohong'), ('kimpoi', 'kawin'), ('kl', 'kalau'), ('klianz', 'kalian'), ('kloter', 'kelompok terbang'), ('klw', 'kalau'), ('km', 'kamu'), ('kmps', 'kampus'), ('kmrn', 'kemarin'), ('knal', 'kenal'), ('knp', 'kenapa'), ('kodya', 'kota madya'), ('komdis', 'komisi disiplin'), ('komsov', 'komunis sovyet'), ('kongkow', 'kumpul bareng teman-teman'), ('kopdar', 'kopi darat'), ('korup', 'korupsi'), ('kpn', 'kapan'), ('krenz', 'keren'), ('krm', 'kirim'), ('kt', 'kita'), ('ktmu', 'ketemu'), ('ktr', 'kantor'), ('kuper', 'kurang pergaulan'), ('kw', 'imitasi'), ('kyk', 'seperti'), ('la', 'lah'), ('lam', 'salam'), ('lamp', 'lampiran'), ('lanud', 'landasan udara'), ('latgab', 'latihan gabungan'), ('lebay', 'berlebihan'), ('leh', 'boleh'), ('lelet', 'lambat'), ('lemot', 'lambat'), ('lgi', 'lagi'), ('lgsg', 'langsung'), ('liat', 'lihat'), ('litbang', 'penelitian dan pengembangan'), ('lmyn', 'lumayan'), ('lo', 'kamu'), ('loe', 'kamu'), ('lola', 'lambat berfikir'), ('louph', 'cinta'), ('low', 'kalau'), ('lp', 'lupa'), ('luber', 'langsung, umum, bebas, dan rahasia'), ('luchuw', 'lucu'), ('lum', 'belum'), ('luthu', 'lucu'), ('lwn', 'lawan'), ('maacih', 'terima kasih'), ('mabal', 'bolos'), ('macem', 'macam'), ('macih', 'masih'), ('maem', 'makan'), ('magabut', 'makan gaji buta'), ('maho', 'homo'), ('mak jang', 'kaget'), ('maksain', 'memaksa'), ('malem', 'malam'), ('mam', 'makan'), ('maneh', 'kamu'), ('maniez', 'manis'), ('mao', 'mau'), ('masukin', 'masukkan'), ('melu', 'ikut'), ('mepet', 'dekat sekali'), ('mgu', 'minggu'), ('migas', 'minyak dan gas bumi'), ('mikol', 'minuman beralkohol'), ('miras', 'minuman keras'), ('mlah', 'malah'), ('mngkn', 'mungkin'), ('mo', 'mau'), ('mokad', 'mati'), ('moso', 'masa'), ('mpe', 'sampai'), ('msk', 'masuk'), ('mslh', 'masalah'), ('mt', 'makan teman'), ('mubes', 'musyawarah besar'), ('mulu', 'melulu'), ('mumpung', 'selagi'), ('munas', 'musyawarah nasional'), ('muntaber', 'muntah dan berak'), ('musti', 'mesti'), ('muupz', 'maaf'), ('mw', 'now watching'), ('n', 'dan'), ('nanam', 'menanam'), ('nanya', 'bertanya'), ('napa', 'kenapa'), ('napi', 'narapidana'), ('napza', 'narkotika, alkohol, psikotropika, dan zat adiktif '), ('narkoba', 'narkotika, psikotropika, dan obat terlarang'), ('nasgor', 'nasi goreng'), ('nda', 'tidak'), ('ndiri', 'sendiri'), ('ne', 'ini'), ('nekolin', 'neokolonialisme'), ('nembak', 'menyatakan cinta'), ('ngabuburit', 'menunggu berbuka puasa'), ('ngaku', 'mengaku'), ('ngambil', 'mengambil'), ('nganggur', 'tidak punya pekerjaan'), ('ngapah', 'kenapa'), ('ngaret', 'terlambat'), ('ngasih', 'memberikan'), ('ngebandel', 'berbuat bandel'), ('ngegosip', 'bergosip'), ('ngeklaim', 'mengklaim'), ('ngeksis', 'menjadi eksis'), ('ngeles', 'berkilah'), ('ngelidur', 'menggigau'), ('ngerampok', 'merampok'), ('ngga', 'tidak'), ('ngibul', 'berbohong'), ('ngiler', 'mau'), ('ngiri', 'iri'), ('ngisiin', 'mengisikan'), ('ngmng', 'bicara'), ('ngomong', 'bicara'), ('ngubek2', 'mencari-cari'), ('ngurus', 'mengurus'), ('nie', 'ini'), ('nih', 'ini'), ('niyh', 'nih'), ('nmr', 'nomor'), ('nntn', 'nonton'), ('nobar', 'nonton bareng'), ('np', 'now playing'), ('ntar', 'nanti'), ('ntn', 'nonton'), ('numpuk', 'bertumpuk'), ('nutupin', 'menutupi'), ('nyari', 'mencari'), ('nyekar', 'menyekar'), ('nyicil', 'mencicil'), ('nyoblos', 'mencoblos'), ('nyokap', 'ibu'), ('ogah', 'tidak mau'), ('ol', 'online'), ('ongkir', 'ongkos kirim'), ('oot', 'out of topic'), ('org2', 'orang-orang'), ('ortu', 'orang tua'), ('otda', 'otonomi daerah'), ('otw', 'on the way, sedang di jalan'), ('pacal', 'pacar'), ('pake', 'pakai'), ('pala', 'kepala'), ('pansus', 'panitia khusus'), ('parpol', 'partai politik'), ('pasutri', 'pasangan suami istri'), ('pd', 'pada'), ('pede', 'percaya diri'), ('pelatnas', 'pemusatan latihan nasional'), ('pemda', 'pemerintah daerah'), ('pemkot', 'pemerintah kota'), ('pemred', 'pemimpin redaksi'), ('penjas', 'pendidikan jasmani'), ('perda', 'peraturan daerah'), ('perhatiin', 'perhatikan'), ('pesenan', 'pesanan'), ('pgang', 'pegang'), ('pi', 'tapi'), ('pilkada', 'pemilihan kepala daerah'), ('pisan', 'sangat'), ('pk', 'penjahat kelamin'), ('plg', 'paling'), ('pmrnth', 'pemerintah'), ('polantas', 'polisi lalu lintas'), ('ponpes', 'pondok pesantren'), ('pp', 'pulang pergi'), ('prg', 'pergi'), ('prnh', 'pernah'), ('psen', 'pesan'), ('pst', 'pasti'), ('pswt', 'pesawat'), ('pw', 'posisi nyaman'), ('qmu', 'kamu'), ('rakor', 'rapat koordinasi'), ('ranmor', 'kendaraan bermotor'), ('re', 'reply'), ('ref', 'referensi'), ('rehab', 'rehabilitasi'), ('rempong', 'sulit'), ('repp', 'balas'), ('restik', 'reserse narkotika'), ('rhs', 'rahasia'), ('rmh', 'rumah'), ('ru', 'baru'), ('ruko', 'rumah toko'), ('rusunawa', 'rumah susun sewa'), ('ruz', 'terus'), ('saia', 'saya'), ('salting', 'salah tingkah'), ('sampe', 'sampai'), ('samsek', 'sama sekali'), ('sapose', 'siapa'), ('satpam', 'satuan pengamanan'), ('sbb', 'sebagai berikut'), ('sbh', 'sebuah'), ('sbnrny', 'sebenarnya'), ('scr', 'secara'), ('sdgkn', 'sedangkan'), ('sdkt', 'sedikit'), ('se7', 'setuju'), ('sebelas dua belas', 'mirip'), ('sembako', 'sembilan bahan pokok'), ('sempet', 'sempat'), ('sendratari', 'seni drama tari'), ('sgt', 'sangat'), ('shg', 'sehingga'), ('siech', 'sih'), ('sikon', 'situasi dan kondisi'), ('sinetron', 'sinema elektronik'), ('siramin', 'siramkan'), ('sj', 'saja'), ('skalian', 'sekalian'), ('sklh', 'sekolah'), ('skt', 'sakit'), ('slesai', 'selesai'), ('sll', 'selalu'), ('slma', 'selama'), ('slsai', 'selesai'), ('smpt', 'sempat'), ('smw', 'semua'), ('sndiri', 'sendiri'), ('soljum', 'sholat jumat'), ('songong', 'sombong'), ('sory', 'maaf'), ('sosek', 'sosial-ekonomi'), ('sotoy', 'sok tahu'), ('spa', 'siapa'), ('sppa', 'siapa'), ('spt', 'seperti'), ('srtfkt', 'sertifikat'), ('stiap', 'setiap'), ('stlh', 'setelah'), ('suk', 'masuk'), ('sumpek', 'sempit'), ('syg', 'sayang'), ('t4', 'tempat'), ('tajir', 'kaya'), ('tau', 'tahu'), ('taw', 'tahu'), ('td', 'tadi'), ('tdk', 'tidak'), ('teh', 'kakak perempuan'), ('telat', 'terlambat'), ('telmi', 'telat berpikir'), ('temen', 'teman'), ('tengil', 'menyebalkan'), ('tepar', 'terkapar'), ('tggu', 'tunggu'), ('tgu', 'tunggu'), ('thankz', 'terima kasih'), ('thn', 'tahun'), ('tilang', 'bukti pelanggaran'), ('tipiwan', 'TvOne'), ('tks', 'terima kasih'), ('tlp', 'telepon'), ('tls', 'tulis'), ('tmbah', 'tambah'), ('tmen2', 'teman-teman'), ('tmpah', 'tumpah'), ('tmpt', 'tempat'), ('tngu', 'tunggu'), ('tnyta', 'ternyata'), ('tokai', 'tai'), ('toserba', 'toko serba ada'), ('tpi', 'tapi'), ('trdhulu', 'terdahulu'), ('trima', 'terima kasih'), ('trm', 'terima'), ('trs', 'terus'), ('trutama', 'terutama'), ('ts', 'penulis'), ('tst', 'tahu sama tahu'), ('ttg', 'tentang'), ('tuch', 'tuh'), ('tuir', 'tua'), ('tw', 'tahu'), ('u', 'kamu'), ('ud', 'sudah'), ('udah', 'sudah'), ('ujg', 'ujung'), ('ul', 'ulangan'), ('unyu', 'lucu'), ('uplot', 'unggah'), ('urang', 'saya'), ('usah', 'perlu'), ('utk', 'untuk'), ('valas', 'valuta asing'), ('w/', 'dengan'), ('wadir', 'wakil direktur'), ('wamil', 'wajib militer'), ('warkop', 'warung kopi'), ('warteg', 'warung tegal'), ('wat', 'buat'), ('wkt', 'waktu'), ('wtf', 'what the fuck'), ('xixixi', 'tertawa'), ('ya', 'iya'), ('yap', 'iya'), ('yaudah', 'ya sudah'), ('yawdah', 'ya sudah'), ('yg', 'yang'), ('yl', 'yang lain'), ('yo', 'iya'), ('yowes', 'ya sudah'), ('yup', 'iya'), ('7an', 'tujuan'), ('ababil', 'abg labil'), ('acc', 'accord'), ('adlah', 'adalah'), ('adoh', 'aduh'), ('aha', 'tertawa'), ('aing', 'saya'), ('aja', 'saja'), ('ajj', 'saja'), ('aka', 'dikenal juga sebagai'), ('akko', 'aku'), ('akku', 'aku'), ('akyu', 'aku'), ('aljasa', 'asal jadi saja'), ('ama', 'sama'), ('ambl', 'ambil'), ('anjir', 'anjing'), ('ank', 'anak'), ('ap', 'apa'), ('apaan', 'apa'), ('ape', 'apa'), ('aplot', 'unggah'), ('apva', 'apa'), ('aqu', 'aku'), ('asap', 'sesegera mungkin'), ('aseek', 'asyik'), ('asek', 'asyik'), ('aseknya', 'asyiknya'), ('asoy', 'asyik'), ('astrojim', 'astagfirullahaladzim'), ('ath', 'kalau begitu'), ('atuh', 'kalau begitu'), ('ava', 'avatar'), ('aws', 'awas'), ('ayang', 'sayang'), ('ayok', 'ayo'), ('bacot', 'banyak bicara'), ('bales', 'balas'), ('bangdes', 'pembangunan desa'), ('bangkotan', 'tua'), ('banpres', 'bantuan presiden'), ('bansarkas', 'bantuan sarana kesehatan'), ('bazis', 'badan amal, zakat, infak, dan sedekah'), ('bcoz', 'karena'), ('beb', 'sayang'), ('bejibun', 'banyak'), ('belom', 'belum'), ('bener', 'benar'), ('ber2', 'berdua'), ('berdikari', 'berdiri di atas kaki sendiri'), ('bet', 'banget'), ('beti', 'beda tipis'), ('beut', 'banget'), ('bgd', 'banget'), ('bgs', 'bagus'), ('bhubu', 'tidur'), ('bimbuluh', 'bimbingan dan penyuluhan'), ('bisi', 'kalau-kalau'), ('bkn', 'bukan'), ('bl', 'beli'), ('blg', 'bilang'), ('blm', 'belum'), ('bls', 'balas'), ('bnchi', 'benci'), ('bngung', 'bingung'), ('bnyk', 'banyak'), ('bohay', 'badan aduhai'), ('bokep', 'porno'), ('bokin', 'pacar'), ('bole', 'boleh'), ('bolot', 'bodoh'), ('bonyok', 'ayah ibu'), ('bpk', 'bapak'), ('brb', 'segera kembali'), ('brngkt', 'berangkat'), ('brp', 'berapa'), ('brur', 'saudara laki-laki'), ('bsa', 'bisa'), ('bsk', 'besok'), ('bu_bu', 'tidur'), ('bubarin', 'bubarkan'), ('buber', 'buka bersama'), ('bujubune', 'luar biasa'), ('buser', 'buru sergap'), ('bwhn', 'bawahan'), ('byar', 'bayar'), ('byr', 'bayar'), ('c8', 'chat'), ('cabut', 'pergi'), ('caem', 'cakep'), ('cama-cama', 'sama-sama'), ('cangcut', 'celana dalam'), ('cape', 'capek'), ('caur', 'jelek'), ('cekak', 'tidak ada uang'), ('cekidot', 'coba lihat'), ('cemplungin', 'cemplungkan'), ('ceper', 'pendek'), ('ceu', 'kakak perempuan'), ('cewe', 'cewek'), ('cibuk', 'sibuk'), ('cin', 'cinta'), ('ciye', 'cie'), ('ckck', 'ck'), ('clbk', 'cinta lama bersemi kembali'), ('cmpr', 'campur'), ('cnenk', 'senang'), ('congor', 'mulut'), ('cow', 'cowok'), ('coz', 'karena'), ('cpa', 'siapa'), ('gokil', 'gila'), ('gombal', 'suka merayu'), ('gpl', 'tidak pakai lama'), ('gpp', 'tidak apa-apa'), ('gretong', 'gratis'), ('gt', 'begitu'), ('gtw', 'tidak tahu'), ('gue', 'saya'), ('guys', 'teman-teman'), ('gws', 'cepat sembuh'), ('haghaghag', 'tertawa'), ('hakhak', 'tertawa'), ('handak', 'bahan peledak'), ('hansip', 'pertahanan sipil'), ('hellow', 'halo'), ('helow', 'halo'), ('hi', 'hai'), ('hlng', 'hilang'), ('hnya', 'hanya'), ('houm', 'rumah'), ('hrs', 'harus'), ('hubad', 'hubungan angkatan darat'), ('hubla', 'perhubungan laut'), ('huft', 'mengeluh'), ('humas', 'hubungan masyarakat'), ('idk', 'saya tidak tahu'), ('ilfeel', 'tidak suka'), ('imba', 'jago sekali'), ('imoet', 'imut'), ('info', 'informasi'), ('itung', 'hitung'), ('isengin', 'bercanda'), ('iyala', 'iya lah'), ('iyo', 'iya'), ('jablay', 'jarang dibelai'), ('jadul', 'jaman dulu'), ('jancuk', 'anjing'), ('jd', 'jadi'), ('jdikan', 'jadikan'), ('jg', 'juga'), ('jgn', 'jangan'), ('jijay', 'jijik'), ('jkt', 'jakarta'), ('jnj', 'janji'), ('jth', 'jatuh'), ('jurdil', 'jujur adil'), ('jwb', 'jawab'), ('ka', 'kakak'), ('kabag', 'kepala bagian'), ('kacian', 'kasihan'), ('kadit', 'kepala direktorat'), ('kaga', 'tidak'), ('kaka', 'kakak'), ('kamtib', 'keamanan dan ketertiban'), ('kamuh', 'kamu'), ('kamyu', 'kamu'), ('kapt', 'kapten'), ('kasat', 'kepala satuan'), ('kasubbid', 'kepala subbidang'), ('kau', 'kamu'), ('kbar', 'kabar'), ('kcian', 'kasihan'), ('keburu', 'terlanjur'), ('kedubes', 'kedutaan besar'), ('kek', 'seperti'), ('keknya', 'kayaknya'), ('keliatan', 'kelihatan'), ('keneh', 'masih'), ('kepikiran', 'terpikirkan'), ('kepo', 'mau tahu urusan orang'), ('kere', 'tidak punya uang'), ('kesian', 'kasihan'), ('ketauan', 'ketahuan'), ('keukeuh', 'keras kepala'), ('khan', 'kan'), ('kibus', 'kaki busuk'), ('kk', 'kakak'), ('klian', 'kalian'), ('klo', 'kalau'), ('kluarga', 'keluarga'), ('klwrga', 'keluarga'), ('kmari', 'kemari'), ('kmpus', 'kampus'), ('kn', 'kan'), ('knl', 'kenal'), ('knpa', 'kenapa'), ('kog', 'kok'), ('kompi', 'komputer'), ('komtiong', 'komunis Tiongkok'), ('konjen', 'konsulat jenderal'), ('koq', 'kok'), ('kpd', 'kepada'), ('kptsan', 'keputusan'), ('krik', 'garing'), ('krn', 'karena'), ('ktauan', 'ketahuan'), ('ktny', 'katanya'), ('kudu', 'harus'), ('kuq', 'kok'), ('ky', 'seperti'), ('kykny', 'kayanya'), ('laka', 'kecelakaan'), ('lambreta', 'lambat'), ('lansia', 'lanjut usia'), ('lapas', 'lembaga pemasyarakatan'), ('lbur', 'libur'), ('lekong', 'laki-laki'), ('lg', 'lagi'), ('lgkp', 'lengkap'), ('lht', 'lihat'), ('linmas', 'perlindungan masyarakat'), ('lmyan', 'lumayan'), ('lngkp', 'lengkap'), ('loch', 'loh'), ('lol', 'tertawa'), ('lom', 'belum'), ('loupz', 'cinta'), ('lowh', 'kamu'), ('lu', 'kamu'), ('luchu', 'lucu'), ('luff', 'cinta'), ('luph', 'cinta'), ('lw', 'kamu'), ('lwt', 'lewat'), ('maaciw', 'terima kasih'), ('mabes', 'markas besar'), ('macem-macem', 'macam-macam'), ('madesu', 'masa depan suram'), ('maen', 'main'), ('mahatma', 'maju sehat bersama'), ('mak', 'ibu'), ('makasih', 'terima kasih'), ('malah', 'bahkan'), ('malu2in', 'memalukan'), ('mamz', 'makan'), ('manies', 'manis'), ('mantep', 'mantap'), ('markus', 'makelar kasus'), ('mba', 'mbak'), ('mending', 'lebih baik'), ('mgkn', 'mungkin'), ('mhn', 'mohon'), ('miker', 'minuman keras'), ('milis', 'mailing list'), ('mksd', 'maksud'), ('mls', 'malas'), ('mnt', 'minta'), ('moge', 'motor gede'), ('mokat', 'mati'), ('mosok', 'masa'), ('msh', 'masih'), ('mskpn', 'meskipun'), ('msng2', 'masing-masing'), ('muahal', 'mahal'), ('muker', 'musyawarah kerja'), ('mumet', 'pusing'), ('muna', 'munafik'), ('munaslub', 'musyawarah nasional luar biasa'), ('musda', 'musyawarah daerah'), ('muup', 'maaf'), ('muuv', 'maaf'), ('nal', 'kenal'), ('nangis', 'menangis'), ('naon', 'apa'), ('napol', 'narapidana politik'), ('naq', 'anak'), ('narsis', 'bangga pada diri sendiri'), ('nax', 'anak'), ('ndak', 'tidak'), ('ndut', 'gendut'), ('nekolim', 'neokolonialisme'), ('nelfon', 'menelepon'), ('ngabis2in', 'menghabiskan'), ('ngakak', 'tertawa'), ('ngambek', 'marah'), ('ngampus', 'pergi ke kampus'), ('ngantri', 'mengantri'), ('ngapain', 'sedang apa'), ('ngaruh', 'berpengaruh'), ('ngawur', 'berbicara sembarangan'), ('ngeceng', 'kumpul bareng-bareng'), ('ngeh', 'sadar'), ('ngekos', 'tinggal di kos'), ('ngelamar', 'melamar'), ('ngeliat', 'melihat'), ('ngemeng', 'bicara terus-terusan'), ('ngerti', 'mengerti'), ('nggak', 'tidak'), ('ngikut', 'ikut'), ('nginep', 'menginap'), ('ngisi', 'mengisi'), ('ngmg', 'bicara'), ('ngocol', 'lucu'), ('ngomongin', 'membicarakan'), ('ngumpul', 'berkumpul'), ('ni', 'ini'), ('nyasar', 'tersesat'), ('nyariin', 'mencari'), ('nyiapin', 'mempersiapkan'), ('nyiram', 'menyiram'), ('nyok', 'ayo'), ('o/', 'oleh'), ('ok', 'ok'), ('priksa', 'periksa'), ('pro', 'profesional'), ('psn', 'pesan'), ('psti', 'pasti'), ('puanas', 'panas'), ('qmo', 'kamu'), ('qt', 'kita'), ('rame', 'ramai'), ('raskin', 'rakyat miskin'), ('red', 'redaksi'), ('reg', 'register'), ('rejeki', 'rezeki'), ('renstra', 'rencana strategis'), ('reskrim', 'reserse kriminal'), ('sni', 'sini'), ('somse', 'sombong sekali'), ('sorry', 'maaf'), ('sosbud', 'sosial-budaya'), ('sospol', 'sosial-politik'), ('sowry', 'maaf'), ('spd', 'sepeda'), ('sprti', 'seperti'), ('spy', 'supaya'), ('stelah', 'setelah'), ('subbag', 'subbagian'), ('sumbangin', 'sumbangkan'), ('sy', 'saya'), ('syp', 'siapa'), ('tabanas', 'tabungan pembangunan nasional'), ('tar', 'nanti'), ('taun', 'tahun'), ('tawh', 'tahu'), ('tdi', 'tadi'), ('te2p', 'tetap'), ('tekor', 'rugi'), ('telkom', 'telekomunikasi'), ('telp', 'telepon'), ('temen2', 'teman-teman'), ('tengok', 'menjenguk'), ('terbitin', 'terbitkan'), ('tgl', 'tanggal'), ('thanks', 'terima kasih'), ('thd', 'terhadap'), ('thx', 'terima kasih'), ('tipi', 'TV'), ('tkg', 'tukang'), ('tll', 'terlalu'), ('tlpn', 'telepon'), ('tman', 'teman'), ('tmbh', 'tambah'), ('tmn2', 'teman-teman'), ('tmph', 'tumpah'), ('tnda', 'tanda'), ('tnh', 'tanah'), ('togel', 'toto gelap'), ('tp', 'tapi'), ('tq', 'terima kasih'), ('trgntg', 'tergantung'), ('trims', 'terima kasih'), ('cb', 'coba'), ('y', 'ya'), ('munfik', 'munafik'), ('reklamuk', 'reklamasi'), ('sma', 'sama'), ('tren', 'trend'), ('ngehe', 'kesal'), ('mz', 'mas'), ('analisise', 'analisis'), ('sadaar', 'sadar'), ('sept', 'september'), ('nmenarik', 'menarik'), ('zonk', 'bodoh'), ('rights', 'benar'), ('simiskin', 'miskin'), ('ngumpet', 'sembunyi'), ('hardcore', 'keras'), ('akhirx', 'akhirnya'), ('solve', 'solusi'), ('watuk', 'batuk'), ('ngebully', 'intimidasi'), ('masy', 'masyarakat'), ('still', 'masih'), ('tauk', 'tahu'), ('mbual', 'bual'), ('tioghoa', 'tionghoa'), ('ngentotin', 'senggama'), ('kentot', 'senggama'), ('faktakta', 'fakta'), ('sohib', 'teman'), ('rubahnn', 'rubah'), ('trlalu', 'terlalu'), ('nyela', 'cela'), ('heters', 'pembenci'), ('nyembah', 'sembah'), ('most', 'paling'), ('ikon', 'lambang'), ('light', 'terang'), ('pndukung', 'pendukung'), ('setting', 'atur'), ('seting', 'akting'), ('next', 'lanjut'), ('waspadalah', 'waspada'), ('gantengsaya', 'ganteng'), ('parte', 'partai'), ('nyerang', 'serang'), ('nipu', 'tipu'), ('ktipu', 'tipu'), ('jentelmen', 'berani'), ('buangbuang', 'buang'), ('tsangka', 'tersangka'), ('kurng', 'kurang'), ('ista', 'nista'), ('less', 'kurang'), ('koar', 'teriak'), ('paranoid', 'takut'), ('problem', 'masalah'), ('tahi', 'kotoran'), ('tirani', 'tiran'), ('tilep', 'tilap'), ('happy', 'bahagia'), ('tak', 'tidak'), ('penertiban', 'tertib'), ('uasai', 'kuasa'), ('mnolak', 'tolak'), ('trending', 'trend'), ('taik', 'tahi'), ('wkwkkw', 'tertawa'), ('ahokncc', 'ahok'), ('istaa', 'nista'), ('benarjujur', 'jujur'), ('mgkin', 'mungkin')])"
      ]
     },
     "execution_count": 25,
     "metadata": {},
     "output_type": "execute_result"
    }
   ],
   "source": [
    "dict_slang.items()"
   ]
  },
  {
   "cell_type": "code",
   "execution_count": 26,
   "id": "ae18efae",
   "metadata": {},
   "outputs": [
    {
     "data": {
      "text/html": [
       "<div>\n",
       "<style scoped>\n",
       "    .dataframe tbody tr th:only-of-type {\n",
       "        vertical-align: middle;\n",
       "    }\n",
       "\n",
       "    .dataframe tbody tr th {\n",
       "        vertical-align: top;\n",
       "    }\n",
       "\n",
       "    .dataframe thead th {\n",
       "        text-align: right;\n",
       "    }\n",
       "</style>\n",
       "<table border=\"1\" class=\"dataframe\">\n",
       "  <thead>\n",
       "    <tr style=\"text-align: right;\">\n",
       "      <th></th>\n",
       "      <th>Old</th>\n",
       "      <th>New</th>\n",
       "    </tr>\n",
       "  </thead>\n",
       "  <tbody>\n",
       "    <tr>\n",
       "      <th>0</th>\n",
       "      <td>@</td>\n",
       "      <td>di</td>\n",
       "    </tr>\n",
       "    <tr>\n",
       "      <th>1</th>\n",
       "      <td>abis</td>\n",
       "      <td>habis</td>\n",
       "    </tr>\n",
       "    <tr>\n",
       "      <th>2</th>\n",
       "      <td>ad</td>\n",
       "      <td>ada</td>\n",
       "    </tr>\n",
       "    <tr>\n",
       "      <th>3</th>\n",
       "      <td>adlh</td>\n",
       "      <td>adalah</td>\n",
       "    </tr>\n",
       "    <tr>\n",
       "      <th>4</th>\n",
       "      <td>afaik</td>\n",
       "      <td>as far as i know</td>\n",
       "    </tr>\n",
       "  </tbody>\n",
       "</table>\n",
       "</div>"
      ],
      "text/plain": [
       "     Old               New\n",
       "0      @                di\n",
       "1   abis             habis\n",
       "2     ad               ada\n",
       "3   adlh            adalah\n",
       "4  afaik  as far as i know"
      ]
     },
     "execution_count": 26,
     "metadata": {},
     "output_type": "execute_result"
    }
   ],
   "source": [
    "slang_df = pd.DataFrame(dict_slang.items(), columns=['Old', 'New'])\n",
    "slang_df.head()"
   ]
  },
  {
   "cell_type": "code",
   "execution_count": 27,
   "id": "ec7a513c",
   "metadata": {},
   "outputs": [],
   "source": [
    "# remove trailing white space\n",
    "slang_df['Old'] = slang_df['Old'].apply(lambda x: x.strip())\n",
    "slang_df['New'] = slang_df['New'].apply(lambda x: x.strip())"
   ]
  },
  {
   "cell_type": "code",
   "execution_count": 28,
   "id": "5ac535d6",
   "metadata": {},
   "outputs": [],
   "source": [
    "# transform into key value in a dict\n",
    "slang_dict = {}\n",
    "for i, row in slang_df.iterrows():\n",
    "    slang_dict.update({row['Old']: row['New']})"
   ]
  },
  {
   "cell_type": "code",
   "execution_count": 29,
   "id": "d5626506",
   "metadata": {},
   "outputs": [],
   "source": [
    "def removeSlang(data):\n",
    "  # iterate through data\n",
    "  for i, word in enumerate(data):\n",
    "    # check if data in slang dictionary or not\n",
    "    try:\n",
    "        data[i] = slang_dict[word]\n",
    "    # if data is not slang then pass\n",
    "    except KeyError:\n",
    "        pass\n",
    "  return data"
   ]
  },
  {
   "cell_type": "code",
   "execution_count": 30,
   "id": "a06a1fe2",
   "metadata": {},
   "outputs": [
    {
     "data": {
      "text/html": [
       "<div>\n",
       "<style scoped>\n",
       "    .dataframe tbody tr th:only-of-type {\n",
       "        vertical-align: middle;\n",
       "    }\n",
       "\n",
       "    .dataframe tbody tr th {\n",
       "        vertical-align: top;\n",
       "    }\n",
       "\n",
       "    .dataframe thead th {\n",
       "        text-align: right;\n",
       "    }\n",
       "</style>\n",
       "<table border=\"1\" class=\"dataframe\">\n",
       "  <thead>\n",
       "    <tr style=\"text-align: right;\">\n",
       "      <th></th>\n",
       "      <th>Label</th>\n",
       "      <th>Tweet</th>\n",
       "      <th>length</th>\n",
       "      <th>Case_folded</th>\n",
       "      <th>Tokenized</th>\n",
       "      <th>Stemmed</th>\n",
       "      <th>No_Slang</th>\n",
       "    </tr>\n",
       "  </thead>\n",
       "  <tbody>\n",
       "    <tr>\n",
       "      <th>0</th>\n",
       "      <td>Non_HS</td>\n",
       "      <td>RT @spardaxyz: Fadli Zon Minta Mendagri Segera...</td>\n",
       "      <td>110</td>\n",
       "      <td>fadli zon minta mendagri segera menonaktifkan ...</td>\n",
       "      <td>[fadli, zon, minta, mendagri, segera, menonakt...</td>\n",
       "      <td>[fadli, zon, minta, mendagri, segera, nonaktif...</td>\n",
       "      <td>[fadli, zon, minta, mendagri, segera, nonaktif...</td>\n",
       "    </tr>\n",
       "    <tr>\n",
       "      <th>1</th>\n",
       "      <td>Non_HS</td>\n",
       "      <td>RT @baguscondromowo: Mereka terus melukai aksi...</td>\n",
       "      <td>108</td>\n",
       "      <td>mereka terus melukai aksi dalam rangka memenja...</td>\n",
       "      <td>[mereka, terus, melukai, aksi, dalam, rangka, ...</td>\n",
       "      <td>[mereka, terus, luka, aksi, dalam, rangka, pen...</td>\n",
       "      <td>[mereka, terus, luka, aksi, dalam, rangka, pen...</td>\n",
       "    </tr>\n",
       "    <tr>\n",
       "      <th>2</th>\n",
       "      <td>Non_HS</td>\n",
       "      <td>Sylvi: bagaimana gurbernur melakukan kekerasan...</td>\n",
       "      <td>116</td>\n",
       "      <td>sylvi bagaimana gurbernur melakukan kekerasan ...</td>\n",
       "      <td>[sylvi, bagaimana, gurbernur, melakukan, keker...</td>\n",
       "      <td>[sylvi, bagaimana, gurbernur, laku, keras, per...</td>\n",
       "      <td>[sylvi, bagaimana, gurbernur, laku, keras, per...</td>\n",
       "    </tr>\n",
       "    <tr>\n",
       "      <th>3</th>\n",
       "      <td>Non_HS</td>\n",
       "      <td>Ahmad Dhani Tak Puas Debat Pilkada, Masalah Ja...</td>\n",
       "      <td>115</td>\n",
       "      <td>ahmad dhani tak puas debat pilkada masalah jal...</td>\n",
       "      <td>[ahmad, dhani, tak, puas, debat, pilkada, masa...</td>\n",
       "      <td>[ahmad, dhani, tidak, puas, debat, pemilihan k...</td>\n",
       "      <td>[ahmad, dhani, tidak, puas, debat, pemilihan k...</td>\n",
       "    </tr>\n",
       "    <tr>\n",
       "      <th>4</th>\n",
       "      <td>Non_HS</td>\n",
       "      <td>RT @lisdaulay28: Waspada KTP palsu.....kawal P...</td>\n",
       "      <td>79</td>\n",
       "      <td>waspada ktp palsu kawal pilkada</td>\n",
       "      <td>[waspada, ktp, palsu, kawal, pilkada]</td>\n",
       "      <td>[waspada, ktp, palsu, kawal, pemilihan kepala ...</td>\n",
       "      <td>[waspada, ktp, palsu, kawal, pemilihan kepala ...</td>\n",
       "    </tr>\n",
       "  </tbody>\n",
       "</table>\n",
       "</div>"
      ],
      "text/plain": [
       "    Label                                              Tweet  length  \\\n",
       "0  Non_HS  RT @spardaxyz: Fadli Zon Minta Mendagri Segera...     110   \n",
       "1  Non_HS  RT @baguscondromowo: Mereka terus melukai aksi...     108   \n",
       "2  Non_HS  Sylvi: bagaimana gurbernur melakukan kekerasan...     116   \n",
       "3  Non_HS  Ahmad Dhani Tak Puas Debat Pilkada, Masalah Ja...     115   \n",
       "4  Non_HS  RT @lisdaulay28: Waspada KTP palsu.....kawal P...      79   \n",
       "\n",
       "                                         Case_folded  \\\n",
       "0  fadli zon minta mendagri segera menonaktifkan ...   \n",
       "1  mereka terus melukai aksi dalam rangka memenja...   \n",
       "2  sylvi bagaimana gurbernur melakukan kekerasan ...   \n",
       "3  ahmad dhani tak puas debat pilkada masalah jal...   \n",
       "4                    waspada ktp palsu kawal pilkada   \n",
       "\n",
       "                                           Tokenized  \\\n",
       "0  [fadli, zon, minta, mendagri, segera, menonakt...   \n",
       "1  [mereka, terus, melukai, aksi, dalam, rangka, ...   \n",
       "2  [sylvi, bagaimana, gurbernur, melakukan, keker...   \n",
       "3  [ahmad, dhani, tak, puas, debat, pilkada, masa...   \n",
       "4              [waspada, ktp, palsu, kawal, pilkada]   \n",
       "\n",
       "                                             Stemmed  \\\n",
       "0  [fadli, zon, minta, mendagri, segera, nonaktif...   \n",
       "1  [mereka, terus, luka, aksi, dalam, rangka, pen...   \n",
       "2  [sylvi, bagaimana, gurbernur, laku, keras, per...   \n",
       "3  [ahmad, dhani, tidak, puas, debat, pemilihan k...   \n",
       "4  [waspada, ktp, palsu, kawal, pemilihan kepala ...   \n",
       "\n",
       "                                            No_Slang  \n",
       "0  [fadli, zon, minta, mendagri, segera, nonaktif...  \n",
       "1  [mereka, terus, luka, aksi, dalam, rangka, pen...  \n",
       "2  [sylvi, bagaimana, gurbernur, laku, keras, per...  \n",
       "3  [ahmad, dhani, tidak, puas, debat, pemilihan k...  \n",
       "4  [waspada, ktp, palsu, kawal, pemilihan kepala ...  "
      ]
     },
     "execution_count": 30,
     "metadata": {},
     "output_type": "execute_result"
    }
   ],
   "source": [
    "df['No_Slang'] = df['Stemmed'].apply(removeSlang)\n",
    "df.head()"
   ]
  },
  {
   "cell_type": "markdown",
   "id": "4cc705b8",
   "metadata": {},
   "source": [
    "### Stop Words Removal"
   ]
  },
  {
   "cell_type": "code",
   "execution_count": 31,
   "id": "fb7e6f89",
   "metadata": {},
   "outputs": [],
   "source": [
    "from nltk.corpus import stopwords"
   ]
  },
  {
   "cell_type": "code",
   "execution_count": 32,
   "id": "142b854b",
   "metadata": {},
   "outputs": [],
   "source": [
    "def removeStopWords(data):\n",
    "    stop_words = set(stopwords.words('indonesian'))\n",
    "    return data.apply(lambda x: [item for item in x if item not in stop_words])"
   ]
  },
  {
   "cell_type": "code",
   "execution_count": 33,
   "id": "802cc8f3",
   "metadata": {},
   "outputs": [
    {
     "data": {
      "text/html": [
       "<div>\n",
       "<style scoped>\n",
       "    .dataframe tbody tr th:only-of-type {\n",
       "        vertical-align: middle;\n",
       "    }\n",
       "\n",
       "    .dataframe tbody tr th {\n",
       "        vertical-align: top;\n",
       "    }\n",
       "\n",
       "    .dataframe thead th {\n",
       "        text-align: right;\n",
       "    }\n",
       "</style>\n",
       "<table border=\"1\" class=\"dataframe\">\n",
       "  <thead>\n",
       "    <tr style=\"text-align: right;\">\n",
       "      <th></th>\n",
       "      <th>Label</th>\n",
       "      <th>Tweet</th>\n",
       "      <th>length</th>\n",
       "      <th>Case_folded</th>\n",
       "      <th>Tokenized</th>\n",
       "      <th>Stemmed</th>\n",
       "      <th>No_Slang</th>\n",
       "      <th>No_Stop</th>\n",
       "    </tr>\n",
       "  </thead>\n",
       "  <tbody>\n",
       "    <tr>\n",
       "      <th>0</th>\n",
       "      <td>Non_HS</td>\n",
       "      <td>RT @spardaxyz: Fadli Zon Minta Mendagri Segera...</td>\n",
       "      <td>110</td>\n",
       "      <td>fadli zon minta mendagri segera menonaktifkan ...</td>\n",
       "      <td>[fadli, zon, minta, mendagri, segera, menonakt...</td>\n",
       "      <td>[fadli, zon, minta, mendagri, segera, nonaktif...</td>\n",
       "      <td>[fadli, zon, minta, mendagri, segera, nonaktif...</td>\n",
       "      <td>[fadli, zon, mendagri, nonaktif, ahok, gubernu...</td>\n",
       "    </tr>\n",
       "    <tr>\n",
       "      <th>1</th>\n",
       "      <td>Non_HS</td>\n",
       "      <td>RT @baguscondromowo: Mereka terus melukai aksi...</td>\n",
       "      <td>108</td>\n",
       "      <td>mereka terus melukai aksi dalam rangka memenja...</td>\n",
       "      <td>[mereka, terus, melukai, aksi, dalam, rangka, ...</td>\n",
       "      <td>[mereka, terus, luka, aksi, dalam, rangka, pen...</td>\n",
       "      <td>[mereka, terus, luka, aksi, dalam, rangka, pen...</td>\n",
       "      <td>[luka, aksi, rangka, penjara, ahok, ahok, gaga...</td>\n",
       "    </tr>\n",
       "    <tr>\n",
       "      <th>2</th>\n",
       "      <td>Non_HS</td>\n",
       "      <td>Sylvi: bagaimana gurbernur melakukan kekerasan...</td>\n",
       "      <td>116</td>\n",
       "      <td>sylvi bagaimana gurbernur melakukan kekerasan ...</td>\n",
       "      <td>[sylvi, bagaimana, gurbernur, melakukan, keker...</td>\n",
       "      <td>[sylvi, bagaimana, gurbernur, laku, keras, per...</td>\n",
       "      <td>[sylvi, bagaimana, gurbernur, laku, keras, per...</td>\n",
       "      <td>[sylvi, gurbernur, laku, keras, perempuan, buk...</td>\n",
       "    </tr>\n",
       "    <tr>\n",
       "      <th>3</th>\n",
       "      <td>Non_HS</td>\n",
       "      <td>Ahmad Dhani Tak Puas Debat Pilkada, Masalah Ja...</td>\n",
       "      <td>115</td>\n",
       "      <td>ahmad dhani tak puas debat pilkada masalah jal...</td>\n",
       "      <td>[ahmad, dhani, tak, puas, debat, pilkada, masa...</td>\n",
       "      <td>[ahmad, dhani, tidak, puas, debat, pemilihan k...</td>\n",
       "      <td>[ahmad, dhani, tidak, puas, debat, pemilihan k...</td>\n",
       "      <td>[ahmad, dhani, puas, debat, pemilihan kepala d...</td>\n",
       "    </tr>\n",
       "    <tr>\n",
       "      <th>4</th>\n",
       "      <td>Non_HS</td>\n",
       "      <td>RT @lisdaulay28: Waspada KTP palsu.....kawal P...</td>\n",
       "      <td>79</td>\n",
       "      <td>waspada ktp palsu kawal pilkada</td>\n",
       "      <td>[waspada, ktp, palsu, kawal, pilkada]</td>\n",
       "      <td>[waspada, ktp, palsu, kawal, pemilihan kepala ...</td>\n",
       "      <td>[waspada, ktp, palsu, kawal, pemilihan kepala ...</td>\n",
       "      <td>[waspada, ktp, palsu, kawal, pemilihan kepala ...</td>\n",
       "    </tr>\n",
       "  </tbody>\n",
       "</table>\n",
       "</div>"
      ],
      "text/plain": [
       "    Label                                              Tweet  length  \\\n",
       "0  Non_HS  RT @spardaxyz: Fadli Zon Minta Mendagri Segera...     110   \n",
       "1  Non_HS  RT @baguscondromowo: Mereka terus melukai aksi...     108   \n",
       "2  Non_HS  Sylvi: bagaimana gurbernur melakukan kekerasan...     116   \n",
       "3  Non_HS  Ahmad Dhani Tak Puas Debat Pilkada, Masalah Ja...     115   \n",
       "4  Non_HS  RT @lisdaulay28: Waspada KTP palsu.....kawal P...      79   \n",
       "\n",
       "                                         Case_folded  \\\n",
       "0  fadli zon minta mendagri segera menonaktifkan ...   \n",
       "1  mereka terus melukai aksi dalam rangka memenja...   \n",
       "2  sylvi bagaimana gurbernur melakukan kekerasan ...   \n",
       "3  ahmad dhani tak puas debat pilkada masalah jal...   \n",
       "4                    waspada ktp palsu kawal pilkada   \n",
       "\n",
       "                                           Tokenized  \\\n",
       "0  [fadli, zon, minta, mendagri, segera, menonakt...   \n",
       "1  [mereka, terus, melukai, aksi, dalam, rangka, ...   \n",
       "2  [sylvi, bagaimana, gurbernur, melakukan, keker...   \n",
       "3  [ahmad, dhani, tak, puas, debat, pilkada, masa...   \n",
       "4              [waspada, ktp, palsu, kawal, pilkada]   \n",
       "\n",
       "                                             Stemmed  \\\n",
       "0  [fadli, zon, minta, mendagri, segera, nonaktif...   \n",
       "1  [mereka, terus, luka, aksi, dalam, rangka, pen...   \n",
       "2  [sylvi, bagaimana, gurbernur, laku, keras, per...   \n",
       "3  [ahmad, dhani, tidak, puas, debat, pemilihan k...   \n",
       "4  [waspada, ktp, palsu, kawal, pemilihan kepala ...   \n",
       "\n",
       "                                            No_Slang  \\\n",
       "0  [fadli, zon, minta, mendagri, segera, nonaktif...   \n",
       "1  [mereka, terus, luka, aksi, dalam, rangka, pen...   \n",
       "2  [sylvi, bagaimana, gurbernur, laku, keras, per...   \n",
       "3  [ahmad, dhani, tidak, puas, debat, pemilihan k...   \n",
       "4  [waspada, ktp, palsu, kawal, pemilihan kepala ...   \n",
       "\n",
       "                                             No_Stop  \n",
       "0  [fadli, zon, mendagri, nonaktif, ahok, gubernu...  \n",
       "1  [luka, aksi, rangka, penjara, ahok, ahok, gaga...  \n",
       "2  [sylvi, gurbernur, laku, keras, perempuan, buk...  \n",
       "3  [ahmad, dhani, puas, debat, pemilihan kepala d...  \n",
       "4  [waspada, ktp, palsu, kawal, pemilihan kepala ...  "
      ]
     },
     "execution_count": 33,
     "metadata": {},
     "output_type": "execute_result"
    }
   ],
   "source": [
    "df['No_Stop']=removeStopWords(df['No_Slang'])\n",
    "df.head()"
   ]
  },
  {
   "cell_type": "markdown",
   "id": "7a1dfb6d",
   "metadata": {},
   "source": [
    "### Encoding Target Value"
   ]
  },
  {
   "cell_type": "code",
   "execution_count": 34,
   "id": "0f2177a6",
   "metadata": {},
   "outputs": [
    {
     "data": {
      "text/html": [
       "<div>\n",
       "<style scoped>\n",
       "    .dataframe tbody tr th:only-of-type {\n",
       "        vertical-align: middle;\n",
       "    }\n",
       "\n",
       "    .dataframe tbody tr th {\n",
       "        vertical-align: top;\n",
       "    }\n",
       "\n",
       "    .dataframe thead th {\n",
       "        text-align: right;\n",
       "    }\n",
       "</style>\n",
       "<table border=\"1\" class=\"dataframe\">\n",
       "  <thead>\n",
       "    <tr style=\"text-align: right;\">\n",
       "      <th></th>\n",
       "      <th>Label</th>\n",
       "      <th>Tweet</th>\n",
       "      <th>length</th>\n",
       "      <th>Case_folded</th>\n",
       "      <th>Tokenized</th>\n",
       "      <th>Stemmed</th>\n",
       "      <th>No_Slang</th>\n",
       "      <th>No_Stop</th>\n",
       "    </tr>\n",
       "  </thead>\n",
       "  <tbody>\n",
       "    <tr>\n",
       "      <th>0</th>\n",
       "      <td>0</td>\n",
       "      <td>RT @spardaxyz: Fadli Zon Minta Mendagri Segera...</td>\n",
       "      <td>110</td>\n",
       "      <td>fadli zon minta mendagri segera menonaktifkan ...</td>\n",
       "      <td>[fadli, zon, minta, mendagri, segera, menonakt...</td>\n",
       "      <td>[fadli, zon, minta, mendagri, segera, nonaktif...</td>\n",
       "      <td>[fadli, zon, minta, mendagri, segera, nonaktif...</td>\n",
       "      <td>[fadli, zon, mendagri, nonaktif, ahok, gubernu...</td>\n",
       "    </tr>\n",
       "    <tr>\n",
       "      <th>1</th>\n",
       "      <td>0</td>\n",
       "      <td>RT @baguscondromowo: Mereka terus melukai aksi...</td>\n",
       "      <td>108</td>\n",
       "      <td>mereka terus melukai aksi dalam rangka memenja...</td>\n",
       "      <td>[mereka, terus, melukai, aksi, dalam, rangka, ...</td>\n",
       "      <td>[mereka, terus, luka, aksi, dalam, rangka, pen...</td>\n",
       "      <td>[mereka, terus, luka, aksi, dalam, rangka, pen...</td>\n",
       "      <td>[luka, aksi, rangka, penjara, ahok, ahok, gaga...</td>\n",
       "    </tr>\n",
       "    <tr>\n",
       "      <th>2</th>\n",
       "      <td>0</td>\n",
       "      <td>Sylvi: bagaimana gurbernur melakukan kekerasan...</td>\n",
       "      <td>116</td>\n",
       "      <td>sylvi bagaimana gurbernur melakukan kekerasan ...</td>\n",
       "      <td>[sylvi, bagaimana, gurbernur, melakukan, keker...</td>\n",
       "      <td>[sylvi, bagaimana, gurbernur, laku, keras, per...</td>\n",
       "      <td>[sylvi, bagaimana, gurbernur, laku, keras, per...</td>\n",
       "      <td>[sylvi, gurbernur, laku, keras, perempuan, buk...</td>\n",
       "    </tr>\n",
       "    <tr>\n",
       "      <th>3</th>\n",
       "      <td>0</td>\n",
       "      <td>Ahmad Dhani Tak Puas Debat Pilkada, Masalah Ja...</td>\n",
       "      <td>115</td>\n",
       "      <td>ahmad dhani tak puas debat pilkada masalah jal...</td>\n",
       "      <td>[ahmad, dhani, tak, puas, debat, pilkada, masa...</td>\n",
       "      <td>[ahmad, dhani, tidak, puas, debat, pemilihan k...</td>\n",
       "      <td>[ahmad, dhani, tidak, puas, debat, pemilihan k...</td>\n",
       "      <td>[ahmad, dhani, puas, debat, pemilihan kepala d...</td>\n",
       "    </tr>\n",
       "    <tr>\n",
       "      <th>4</th>\n",
       "      <td>0</td>\n",
       "      <td>RT @lisdaulay28: Waspada KTP palsu.....kawal P...</td>\n",
       "      <td>79</td>\n",
       "      <td>waspada ktp palsu kawal pilkada</td>\n",
       "      <td>[waspada, ktp, palsu, kawal, pilkada]</td>\n",
       "      <td>[waspada, ktp, palsu, kawal, pemilihan kepala ...</td>\n",
       "      <td>[waspada, ktp, palsu, kawal, pemilihan kepala ...</td>\n",
       "      <td>[waspada, ktp, palsu, kawal, pemilihan kepala ...</td>\n",
       "    </tr>\n",
       "  </tbody>\n",
       "</table>\n",
       "</div>"
      ],
      "text/plain": [
       "   Label                                              Tweet  length  \\\n",
       "0      0  RT @spardaxyz: Fadli Zon Minta Mendagri Segera...     110   \n",
       "1      0  RT @baguscondromowo: Mereka terus melukai aksi...     108   \n",
       "2      0  Sylvi: bagaimana gurbernur melakukan kekerasan...     116   \n",
       "3      0  Ahmad Dhani Tak Puas Debat Pilkada, Masalah Ja...     115   \n",
       "4      0  RT @lisdaulay28: Waspada KTP palsu.....kawal P...      79   \n",
       "\n",
       "                                         Case_folded  \\\n",
       "0  fadli zon minta mendagri segera menonaktifkan ...   \n",
       "1  mereka terus melukai aksi dalam rangka memenja...   \n",
       "2  sylvi bagaimana gurbernur melakukan kekerasan ...   \n",
       "3  ahmad dhani tak puas debat pilkada masalah jal...   \n",
       "4                    waspada ktp palsu kawal pilkada   \n",
       "\n",
       "                                           Tokenized  \\\n",
       "0  [fadli, zon, minta, mendagri, segera, menonakt...   \n",
       "1  [mereka, terus, melukai, aksi, dalam, rangka, ...   \n",
       "2  [sylvi, bagaimana, gurbernur, melakukan, keker...   \n",
       "3  [ahmad, dhani, tak, puas, debat, pilkada, masa...   \n",
       "4              [waspada, ktp, palsu, kawal, pilkada]   \n",
       "\n",
       "                                             Stemmed  \\\n",
       "0  [fadli, zon, minta, mendagri, segera, nonaktif...   \n",
       "1  [mereka, terus, luka, aksi, dalam, rangka, pen...   \n",
       "2  [sylvi, bagaimana, gurbernur, laku, keras, per...   \n",
       "3  [ahmad, dhani, tidak, puas, debat, pemilihan k...   \n",
       "4  [waspada, ktp, palsu, kawal, pemilihan kepala ...   \n",
       "\n",
       "                                            No_Slang  \\\n",
       "0  [fadli, zon, minta, mendagri, segera, nonaktif...   \n",
       "1  [mereka, terus, luka, aksi, dalam, rangka, pen...   \n",
       "2  [sylvi, bagaimana, gurbernur, laku, keras, per...   \n",
       "3  [ahmad, dhani, tidak, puas, debat, pemilihan k...   \n",
       "4  [waspada, ktp, palsu, kawal, pemilihan kepala ...   \n",
       "\n",
       "                                             No_Stop  \n",
       "0  [fadli, zon, mendagri, nonaktif, ahok, gubernu...  \n",
       "1  [luka, aksi, rangka, penjara, ahok, ahok, gaga...  \n",
       "2  [sylvi, gurbernur, laku, keras, perempuan, buk...  \n",
       "3  [ahmad, dhani, puas, debat, pemilihan kepala d...  \n",
       "4  [waspada, ktp, palsu, kawal, pemilihan kepala ...  "
      ]
     },
     "execution_count": 34,
     "metadata": {},
     "output_type": "execute_result"
    }
   ],
   "source": [
    "df['Label'] = df['Label'].apply(lambda x: 1 if x == 'HS' else 0)\n",
    "df.head()"
   ]
  },
  {
   "cell_type": "code",
   "execution_count": 35,
   "id": "4ee913d2",
   "metadata": {},
   "outputs": [
    {
     "data": {
      "text/html": [
       "<div>\n",
       "<style scoped>\n",
       "    .dataframe tbody tr th:only-of-type {\n",
       "        vertical-align: middle;\n",
       "    }\n",
       "\n",
       "    .dataframe tbody tr th {\n",
       "        vertical-align: top;\n",
       "    }\n",
       "\n",
       "    .dataframe thead th {\n",
       "        text-align: right;\n",
       "    }\n",
       "</style>\n",
       "<table border=\"1\" class=\"dataframe\">\n",
       "  <thead>\n",
       "    <tr style=\"text-align: right;\">\n",
       "      <th></th>\n",
       "      <th>Label</th>\n",
       "      <th>Tweet</th>\n",
       "      <th>length</th>\n",
       "      <th>Case_folded</th>\n",
       "      <th>Tokenized</th>\n",
       "      <th>Stemmed</th>\n",
       "      <th>No_Slang</th>\n",
       "      <th>No_Stop</th>\n",
       "      <th>Ready</th>\n",
       "    </tr>\n",
       "  </thead>\n",
       "  <tbody>\n",
       "    <tr>\n",
       "      <th>0</th>\n",
       "      <td>0</td>\n",
       "      <td>RT @spardaxyz: Fadli Zon Minta Mendagri Segera...</td>\n",
       "      <td>110</td>\n",
       "      <td>fadli zon minta mendagri segera menonaktifkan ...</td>\n",
       "      <td>[fadli, zon, minta, mendagri, segera, menonakt...</td>\n",
       "      <td>[fadli, zon, minta, mendagri, segera, nonaktif...</td>\n",
       "      <td>[fadli, zon, minta, mendagri, segera, nonaktif...</td>\n",
       "      <td>[fadli, zon, mendagri, nonaktif, ahok, gubernu...</td>\n",
       "      <td>fadli zon mendagri nonaktif ahok gubernur dki</td>\n",
       "    </tr>\n",
       "    <tr>\n",
       "      <th>1</th>\n",
       "      <td>0</td>\n",
       "      <td>RT @baguscondromowo: Mereka terus melukai aksi...</td>\n",
       "      <td>108</td>\n",
       "      <td>mereka terus melukai aksi dalam rangka memenja...</td>\n",
       "      <td>[mereka, terus, melukai, aksi, dalam, rangka, ...</td>\n",
       "      <td>[mereka, terus, luka, aksi, dalam, rangka, pen...</td>\n",
       "      <td>[mereka, terus, luka, aksi, dalam, rangka, pen...</td>\n",
       "      <td>[luka, aksi, rangka, penjara, ahok, ahok, gaga...</td>\n",
       "      <td>luka aksi rangka penjara ahok ahok gagal pemil...</td>\n",
       "    </tr>\n",
       "    <tr>\n",
       "      <th>2</th>\n",
       "      <td>0</td>\n",
       "      <td>Sylvi: bagaimana gurbernur melakukan kekerasan...</td>\n",
       "      <td>116</td>\n",
       "      <td>sylvi bagaimana gurbernur melakukan kekerasan ...</td>\n",
       "      <td>[sylvi, bagaimana, gurbernur, melakukan, keker...</td>\n",
       "      <td>[sylvi, bagaimana, gurbernur, laku, keras, per...</td>\n",
       "      <td>[sylvi, bagaimana, gurbernur, laku, keras, per...</td>\n",
       "      <td>[sylvi, gurbernur, laku, keras, perempuan, buk...</td>\n",
       "      <td>sylvi gurbernur laku keras perempuan bukti fot...</td>\n",
       "    </tr>\n",
       "    <tr>\n",
       "      <th>3</th>\n",
       "      <td>0</td>\n",
       "      <td>Ahmad Dhani Tak Puas Debat Pilkada, Masalah Ja...</td>\n",
       "      <td>115</td>\n",
       "      <td>ahmad dhani tak puas debat pilkada masalah jal...</td>\n",
       "      <td>[ahmad, dhani, tak, puas, debat, pilkada, masa...</td>\n",
       "      <td>[ahmad, dhani, tidak, puas, debat, pemilihan k...</td>\n",
       "      <td>[ahmad, dhani, tidak, puas, debat, pemilihan k...</td>\n",
       "      <td>[ahmad, dhani, puas, debat, pemilihan kepala d...</td>\n",
       "      <td>ahmad dhani puas debat pemilihan kepala daerah...</td>\n",
       "    </tr>\n",
       "    <tr>\n",
       "      <th>4</th>\n",
       "      <td>0</td>\n",
       "      <td>RT @lisdaulay28: Waspada KTP palsu.....kawal P...</td>\n",
       "      <td>79</td>\n",
       "      <td>waspada ktp palsu kawal pilkada</td>\n",
       "      <td>[waspada, ktp, palsu, kawal, pilkada]</td>\n",
       "      <td>[waspada, ktp, palsu, kawal, pemilihan kepala ...</td>\n",
       "      <td>[waspada, ktp, palsu, kawal, pemilihan kepala ...</td>\n",
       "      <td>[waspada, ktp, palsu, kawal, pemilihan kepala ...</td>\n",
       "      <td>waspada ktp palsu kawal pemilihan kepala daerah</td>\n",
       "    </tr>\n",
       "  </tbody>\n",
       "</table>\n",
       "</div>"
      ],
      "text/plain": [
       "   Label                                              Tweet  length  \\\n",
       "0      0  RT @spardaxyz: Fadli Zon Minta Mendagri Segera...     110   \n",
       "1      0  RT @baguscondromowo: Mereka terus melukai aksi...     108   \n",
       "2      0  Sylvi: bagaimana gurbernur melakukan kekerasan...     116   \n",
       "3      0  Ahmad Dhani Tak Puas Debat Pilkada, Masalah Ja...     115   \n",
       "4      0  RT @lisdaulay28: Waspada KTP palsu.....kawal P...      79   \n",
       "\n",
       "                                         Case_folded  \\\n",
       "0  fadli zon minta mendagri segera menonaktifkan ...   \n",
       "1  mereka terus melukai aksi dalam rangka memenja...   \n",
       "2  sylvi bagaimana gurbernur melakukan kekerasan ...   \n",
       "3  ahmad dhani tak puas debat pilkada masalah jal...   \n",
       "4                    waspada ktp palsu kawal pilkada   \n",
       "\n",
       "                                           Tokenized  \\\n",
       "0  [fadli, zon, minta, mendagri, segera, menonakt...   \n",
       "1  [mereka, terus, melukai, aksi, dalam, rangka, ...   \n",
       "2  [sylvi, bagaimana, gurbernur, melakukan, keker...   \n",
       "3  [ahmad, dhani, tak, puas, debat, pilkada, masa...   \n",
       "4              [waspada, ktp, palsu, kawal, pilkada]   \n",
       "\n",
       "                                             Stemmed  \\\n",
       "0  [fadli, zon, minta, mendagri, segera, nonaktif...   \n",
       "1  [mereka, terus, luka, aksi, dalam, rangka, pen...   \n",
       "2  [sylvi, bagaimana, gurbernur, laku, keras, per...   \n",
       "3  [ahmad, dhani, tidak, puas, debat, pemilihan k...   \n",
       "4  [waspada, ktp, palsu, kawal, pemilihan kepala ...   \n",
       "\n",
       "                                            No_Slang  \\\n",
       "0  [fadli, zon, minta, mendagri, segera, nonaktif...   \n",
       "1  [mereka, terus, luka, aksi, dalam, rangka, pen...   \n",
       "2  [sylvi, bagaimana, gurbernur, laku, keras, per...   \n",
       "3  [ahmad, dhani, tidak, puas, debat, pemilihan k...   \n",
       "4  [waspada, ktp, palsu, kawal, pemilihan kepala ...   \n",
       "\n",
       "                                             No_Stop  \\\n",
       "0  [fadli, zon, mendagri, nonaktif, ahok, gubernu...   \n",
       "1  [luka, aksi, rangka, penjara, ahok, ahok, gaga...   \n",
       "2  [sylvi, gurbernur, laku, keras, perempuan, buk...   \n",
       "3  [ahmad, dhani, puas, debat, pemilihan kepala d...   \n",
       "4  [waspada, ktp, palsu, kawal, pemilihan kepala ...   \n",
       "\n",
       "                                               Ready  \n",
       "0      fadli zon mendagri nonaktif ahok gubernur dki  \n",
       "1  luka aksi rangka penjara ahok ahok gagal pemil...  \n",
       "2  sylvi gurbernur laku keras perempuan bukti fot...  \n",
       "3  ahmad dhani puas debat pemilihan kepala daerah...  \n",
       "4    waspada ktp palsu kawal pemilihan kepala daerah  "
      ]
     },
     "execution_count": 35,
     "metadata": {},
     "output_type": "execute_result"
    }
   ],
   "source": [
    "# combine cleaned text after removing stop words into one string\n",
    "df['Ready'] = df['No_Stop'].apply(lambda x: ' '.join(x))\n",
    "df.head()"
   ]
  },
  {
   "cell_type": "markdown",
   "id": "fbd4da8d",
   "metadata": {},
   "source": [
    "### Combine Cleaned Tweet and Label"
   ]
  },
  {
   "cell_type": "code",
   "execution_count": 36,
   "id": "a1f2b2da",
   "metadata": {},
   "outputs": [
    {
     "data": {
      "text/html": [
       "<div>\n",
       "<style scoped>\n",
       "    .dataframe tbody tr th:only-of-type {\n",
       "        vertical-align: middle;\n",
       "    }\n",
       "\n",
       "    .dataframe tbody tr th {\n",
       "        vertical-align: top;\n",
       "    }\n",
       "\n",
       "    .dataframe thead th {\n",
       "        text-align: right;\n",
       "    }\n",
       "</style>\n",
       "<table border=\"1\" class=\"dataframe\">\n",
       "  <thead>\n",
       "    <tr style=\"text-align: right;\">\n",
       "      <th></th>\n",
       "      <th>Ready</th>\n",
       "      <th>Label</th>\n",
       "    </tr>\n",
       "  </thead>\n",
       "  <tbody>\n",
       "    <tr>\n",
       "      <th>0</th>\n",
       "      <td>fadli zon mendagri nonaktif ahok gubernur dki</td>\n",
       "      <td>0</td>\n",
       "    </tr>\n",
       "    <tr>\n",
       "      <th>1</th>\n",
       "      <td>luka aksi rangka penjara ahok ahok gagal pemil...</td>\n",
       "      <td>0</td>\n",
       "    </tr>\n",
       "    <tr>\n",
       "      <th>2</th>\n",
       "      <td>sylvi gurbernur laku keras perempuan bukti fot...</td>\n",
       "      <td>0</td>\n",
       "    </tr>\n",
       "    <tr>\n",
       "      <th>3</th>\n",
       "      <td>ahmad dhani puas debat pemilihan kepala daerah...</td>\n",
       "      <td>0</td>\n",
       "    </tr>\n",
       "    <tr>\n",
       "      <th>4</th>\n",
       "      <td>waspada ktp palsu kawal pemilihan kepala daerah</td>\n",
       "      <td>0</td>\n",
       "    </tr>\n",
       "  </tbody>\n",
       "</table>\n",
       "</div>"
      ],
      "text/plain": [
       "                                               Ready  Label\n",
       "0      fadli zon mendagri nonaktif ahok gubernur dki      0\n",
       "1  luka aksi rangka penjara ahok ahok gagal pemil...      0\n",
       "2  sylvi gurbernur laku keras perempuan bukti fot...      0\n",
       "3  ahmad dhani puas debat pemilihan kepala daerah...      0\n",
       "4    waspada ktp palsu kawal pemilihan kepala daerah      0"
      ]
     },
     "execution_count": 36,
     "metadata": {},
     "output_type": "execute_result"
    }
   ],
   "source": [
    "data1 = df[['Ready']]\n",
    "data2 = df[['Label']]\n",
    "dataset = pd.concat([data1, data2], axis=1)\n",
    "dataset.head()"
   ]
  },
  {
   "cell_type": "markdown",
   "id": "03401489",
   "metadata": {},
   "source": [
    "### Text Vectorization (TF-IDF)"
   ]
  },
  {
   "cell_type": "code",
   "execution_count": 37,
   "id": "860d190e",
   "metadata": {},
   "outputs": [],
   "source": [
    "from sklearn.feature_extraction.text import TfidfVectorizer"
   ]
  },
  {
   "cell_type": "code",
   "execution_count": 38,
   "id": "2d0c3320",
   "metadata": {},
   "outputs": [],
   "source": [
    "X = dataset['Ready']\n",
    "label = dataset['Label']"
   ]
  },
  {
   "cell_type": "code",
   "execution_count": 39,
   "id": "273c33fb",
   "metadata": {},
   "outputs": [
    {
     "data": {
      "text/plain": [
       "(713, 1951)"
      ]
     },
     "execution_count": 39,
     "metadata": {},
     "output_type": "execute_result"
    }
   ],
   "source": [
    "tfidf_vectorizer = TfidfVectorizer()\n",
    "tfidf_vector = tfidf_vectorizer.fit_transform(X)\n",
    "tfidf_vector.shape"
   ]
  },
  {
   "cell_type": "markdown",
   "id": "129b7cb9",
   "metadata": {},
   "source": [
    "### Handling Imbalance Class"
   ]
  },
  {
   "cell_type": "code",
   "execution_count": 40,
   "id": "9503745c",
   "metadata": {},
   "outputs": [
    {
     "name": "stdout",
     "output_type": "stream",
     "text": [
      "Requirement already satisfied: imbalanced-learn in c:\\software\\anaconda\\lib\\site-packages (0.9.0)\n",
      "Requirement already satisfied: scipy>=1.1.0 in c:\\software\\anaconda\\lib\\site-packages (from imbalanced-learn) (1.7.1)\n",
      "Requirement already satisfied: threadpoolctl>=2.0.0 in c:\\software\\anaconda\\lib\\site-packages (from imbalanced-learn) (2.2.0)\n",
      "Requirement already satisfied: joblib>=0.11 in c:\\software\\anaconda\\lib\\site-packages (from imbalanced-learn) (1.1.0)\n",
      "Requirement already satisfied: numpy>=1.14.6 in c:\\software\\anaconda\\lib\\site-packages (from imbalanced-learn) (1.20.3)\n",
      "Requirement already satisfied: scikit-learn>=1.0.1 in c:\\software\\anaconda\\lib\\site-packages (from imbalanced-learn) (1.0.2)\n",
      "Note: you may need to restart the kernel to use updated packages.\n"
     ]
    }
   ],
   "source": [
    "pip install imbalanced-learn"
   ]
  },
  {
   "cell_type": "code",
   "execution_count": 41,
   "id": "5ffdd54f",
   "metadata": {},
   "outputs": [],
   "source": [
    "from imblearn.over_sampling import SMOTE"
   ]
  },
  {
   "cell_type": "code",
   "execution_count": 42,
   "id": "6f02ac9f",
   "metadata": {},
   "outputs": [
    {
     "name": "stdout",
     "output_type": "stream",
     "text": [
      "(906, 1951)\n",
      "(906,)\n"
     ]
    }
   ],
   "source": [
    "sampler = SMOTE()\n",
    "tfidf_vector, label = sampler.fit_resample(tfidf_vector, label)\n",
    "print(tfidf_vector.shape)\n",
    "print(label.shape)"
   ]
  },
  {
   "cell_type": "markdown",
   "id": "274681aa",
   "metadata": {},
   "source": [
    "### Split Data (Training and Testing Data)"
   ]
  },
  {
   "cell_type": "code",
   "execution_count": 43,
   "id": "6f14a364",
   "metadata": {},
   "outputs": [],
   "source": [
    "from sklearn.model_selection import train_test_split"
   ]
  },
  {
   "cell_type": "code",
   "execution_count": 44,
   "id": "b880b4c6",
   "metadata": {},
   "outputs": [
    {
     "name": "stdout",
     "output_type": "stream",
     "text": [
      "(724, 1951)\n",
      "(182, 1951)\n",
      "(724,)\n",
      "(182,)\n"
     ]
    }
   ],
   "source": [
    "X_train, X_test, y_train, y_test = train_test_split(tfidf_vector, label, test_size=0.2, shuffle=True, random_state=42)\n",
    "print(X_train.shape)\n",
    "print(X_test.shape)\n",
    "print(y_train.shape)\n",
    "print(y_test.shape)"
   ]
  },
  {
   "cell_type": "markdown",
   "id": "5cd04127",
   "metadata": {},
   "source": [
    "### Most Common Words VS Importants Words"
   ]
  },
  {
   "cell_type": "code",
   "execution_count": 45,
   "id": "fcdc06d9",
   "metadata": {},
   "outputs": [],
   "source": [
    "feature_names = np.array(tfidf_vectorizer.get_feature_names())\n",
    "\n",
    "# Sort TFIDF by value\n",
    "max_tf_idfs = X_train.max(0).toarray()[0] # Get largest tfidf values across all documents.\n",
    "sorted_tf_idxs = max_tf_idfs.argsort() # Sorted indices\n",
    "sorted_tf_idfs = max_tf_idfs[sorted_tf_idxs] # Sorted TFIDF values\n",
    "\n",
    "# feature_names doesn't need to be sorted! You just access it with a list of sorted indices!\n",
    "smallest_tf_idfs = pd.Series(sorted_tf_idfs[:10], index=feature_names[sorted_tf_idxs[:10]])                    \n",
    "largest_tf_idfs = pd.Series(sorted_tf_idfs[-10:][::-1], index=feature_names[sorted_tf_idxs[-10:][::-1]])"
   ]
  },
  {
   "cell_type": "code",
   "execution_count": 46,
   "id": "d76fa1b9",
   "metadata": {},
   "outputs": [
    {
     "name": "stdout",
     "output_type": "stream",
     "text": [
      "Most common words:\n",
      " patung           0.0\n",
      "pokok            0.0\n",
      "pny              0.0\n",
      "hasut            0.0\n",
      "pngn             0.0\n",
      "plus             0.0\n",
      "lampung          0.0\n",
      "temu             0.0\n",
      "kesatria         0.0\n",
      "ketidakadilan    0.0\n",
      "dtype: float64\n",
      "\n",
      "\n",
      "Most important words:\n",
      " perempuan    0.969216\n",
      "tangguh      0.960130\n",
      "karya        0.955319\n",
      "keren        0.947947\n",
      "seru         0.910673\n",
      "dukung       0.888721\n",
      "nang         0.878559\n",
      "kesi         0.868267\n",
      "mantap       0.867034\n",
      "akun         0.845751\n",
      "dtype: float64\n"
     ]
    }
   ],
   "source": [
    "print('Most common words:\\n', smallest_tf_idfs)\n",
    "print('\\n')\n",
    "print('Most important words:\\n', largest_tf_idfs)"
   ]
  },
  {
   "cell_type": "markdown",
   "id": "8d7d6159",
   "metadata": {},
   "source": [
    "### WordCloud Visualization"
   ]
  },
  {
   "cell_type": "code",
   "execution_count": 58,
   "id": "24d00b07",
   "metadata": {},
   "outputs": [],
   "source": [
    "from wordcloud import WordCloud, STOPWORDS, ImageColorGenerator\n",
    "from PIL import Image"
   ]
  },
  {
   "cell_type": "code",
   "execution_count": 60,
   "id": "e5eb5ba6",
   "metadata": {},
   "outputs": [
    {
     "ename": "ImportError",
     "evalue": "The _imagingft C module is not installed",
     "output_type": "error",
     "traceback": [
      "\u001b[1;31m---------------------------------------------------------------------------\u001b[0m",
      "\u001b[1;31mImportError\u001b[0m                               Traceback (most recent call last)",
      "\u001b[1;32m~\\AppData\\Local\\Temp/ipykernel_13920/3454362398.py\u001b[0m in \u001b[0;36m<module>\u001b[1;34m\u001b[0m\n\u001b[0;32m      1\u001b[0m \u001b[0mhs_words\u001b[0m \u001b[1;33m=\u001b[0m \u001b[1;34m' '\u001b[0m\u001b[1;33m.\u001b[0m\u001b[0mjoin\u001b[0m\u001b[1;33m(\u001b[0m\u001b[1;33m[\u001b[0m\u001b[0mword\u001b[0m \u001b[1;32mfor\u001b[0m \u001b[0mword\u001b[0m \u001b[1;32min\u001b[0m \u001b[0mdataset\u001b[0m\u001b[1;33m[\u001b[0m\u001b[1;34m'Ready'\u001b[0m\u001b[1;33m]\u001b[0m\u001b[1;33m[\u001b[0m\u001b[0mdataset\u001b[0m\u001b[1;33m[\u001b[0m\u001b[1;34m'Label'\u001b[0m\u001b[1;33m]\u001b[0m\u001b[1;33m==\u001b[0m\u001b[1;36m1\u001b[0m\u001b[1;33m]\u001b[0m\u001b[1;33m]\u001b[0m\u001b[1;33m)\u001b[0m\u001b[1;33m\u001b[0m\u001b[1;33m\u001b[0m\u001b[0m\n\u001b[0;32m      2\u001b[0m \u001b[1;33m\u001b[0m\u001b[0m\n\u001b[1;32m----> 3\u001b[1;33m wordcloud = WordCloud(\n\u001b[0m\u001b[0;32m      4\u001b[0m                       \u001b[0mmax_words\u001b[0m\u001b[1;33m=\u001b[0m\u001b[1;36m100\u001b[0m\u001b[1;33m,\u001b[0m\u001b[1;33m\u001b[0m\u001b[1;33m\u001b[0m\u001b[0m\n\u001b[0;32m      5\u001b[0m                       \u001b[0mbackground_color\u001b[0m\u001b[1;33m=\u001b[0m\u001b[1;34m\"white\"\u001b[0m\u001b[1;33m,\u001b[0m\u001b[1;33m\u001b[0m\u001b[1;33m\u001b[0m\u001b[0m\n",
      "\u001b[1;32mC:\\Software\\Anaconda\\lib\\site-packages\\wordcloud\\wordcloud.py\u001b[0m in \u001b[0;36mgenerate\u001b[1;34m(self, text)\u001b[0m\n\u001b[0;32m    630\u001b[0m         \u001b[0mself\u001b[0m\u001b[1;33m\u001b[0m\u001b[1;33m\u001b[0m\u001b[0m\n\u001b[0;32m    631\u001b[0m         \"\"\"\n\u001b[1;32m--> 632\u001b[1;33m         \u001b[1;32mreturn\u001b[0m \u001b[0mself\u001b[0m\u001b[1;33m.\u001b[0m\u001b[0mgenerate_from_text\u001b[0m\u001b[1;33m(\u001b[0m\u001b[0mtext\u001b[0m\u001b[1;33m)\u001b[0m\u001b[1;33m\u001b[0m\u001b[1;33m\u001b[0m\u001b[0m\n\u001b[0m\u001b[0;32m    633\u001b[0m \u001b[1;33m\u001b[0m\u001b[0m\n\u001b[0;32m    634\u001b[0m     \u001b[1;32mdef\u001b[0m \u001b[0m_check_generated\u001b[0m\u001b[1;33m(\u001b[0m\u001b[0mself\u001b[0m\u001b[1;33m)\u001b[0m\u001b[1;33m:\u001b[0m\u001b[1;33m\u001b[0m\u001b[1;33m\u001b[0m\u001b[0m\n",
      "\u001b[1;32mC:\\Software\\Anaconda\\lib\\site-packages\\wordcloud\\wordcloud.py\u001b[0m in \u001b[0;36mgenerate_from_text\u001b[1;34m(self, text)\u001b[0m\n\u001b[0;32m    612\u001b[0m         \"\"\"\n\u001b[0;32m    613\u001b[0m         \u001b[0mwords\u001b[0m \u001b[1;33m=\u001b[0m \u001b[0mself\u001b[0m\u001b[1;33m.\u001b[0m\u001b[0mprocess_text\u001b[0m\u001b[1;33m(\u001b[0m\u001b[0mtext\u001b[0m\u001b[1;33m)\u001b[0m\u001b[1;33m\u001b[0m\u001b[1;33m\u001b[0m\u001b[0m\n\u001b[1;32m--> 614\u001b[1;33m         \u001b[0mself\u001b[0m\u001b[1;33m.\u001b[0m\u001b[0mgenerate_from_frequencies\u001b[0m\u001b[1;33m(\u001b[0m\u001b[0mwords\u001b[0m\u001b[1;33m)\u001b[0m\u001b[1;33m\u001b[0m\u001b[1;33m\u001b[0m\u001b[0m\n\u001b[0m\u001b[0;32m    615\u001b[0m         \u001b[1;32mreturn\u001b[0m \u001b[0mself\u001b[0m\u001b[1;33m\u001b[0m\u001b[1;33m\u001b[0m\u001b[0m\n\u001b[0;32m    616\u001b[0m \u001b[1;33m\u001b[0m\u001b[0m\n",
      "\u001b[1;32mC:\\Software\\Anaconda\\lib\\site-packages\\wordcloud\\wordcloud.py\u001b[0m in \u001b[0;36mgenerate_from_frequencies\u001b[1;34m(self, frequencies, max_font_size)\u001b[0m\n\u001b[0;32m    444\u001b[0m                 \u001b[0mfont_size\u001b[0m \u001b[1;33m=\u001b[0m \u001b[0mself\u001b[0m\u001b[1;33m.\u001b[0m\u001b[0mheight\u001b[0m\u001b[1;33m\u001b[0m\u001b[1;33m\u001b[0m\u001b[0m\n\u001b[0;32m    445\u001b[0m             \u001b[1;32melse\u001b[0m\u001b[1;33m:\u001b[0m\u001b[1;33m\u001b[0m\u001b[1;33m\u001b[0m\u001b[0m\n\u001b[1;32m--> 446\u001b[1;33m                 self.generate_from_frequencies(dict(frequencies[:2]),\n\u001b[0m\u001b[0;32m    447\u001b[0m                                                max_font_size=self.height)\n\u001b[0;32m    448\u001b[0m                 \u001b[1;31m# find font sizes\u001b[0m\u001b[1;33m\u001b[0m\u001b[1;33m\u001b[0m\u001b[0m\n",
      "\u001b[1;32mC:\\Software\\Anaconda\\lib\\site-packages\\wordcloud\\wordcloud.py\u001b[0m in \u001b[0;36mgenerate_from_frequencies\u001b[1;34m(self, frequencies, max_font_size)\u001b[0m\n\u001b[0;32m    494\u001b[0m             \u001b[1;32mwhile\u001b[0m \u001b[1;32mTrue\u001b[0m\u001b[1;33m:\u001b[0m\u001b[1;33m\u001b[0m\u001b[1;33m\u001b[0m\u001b[0m\n\u001b[0;32m    495\u001b[0m                 \u001b[1;31m# try to find a position\u001b[0m\u001b[1;33m\u001b[0m\u001b[1;33m\u001b[0m\u001b[0m\n\u001b[1;32m--> 496\u001b[1;33m                 \u001b[0mfont\u001b[0m \u001b[1;33m=\u001b[0m \u001b[0mImageFont\u001b[0m\u001b[1;33m.\u001b[0m\u001b[0mtruetype\u001b[0m\u001b[1;33m(\u001b[0m\u001b[0mself\u001b[0m\u001b[1;33m.\u001b[0m\u001b[0mfont_path\u001b[0m\u001b[1;33m,\u001b[0m \u001b[0mfont_size\u001b[0m\u001b[1;33m)\u001b[0m\u001b[1;33m\u001b[0m\u001b[1;33m\u001b[0m\u001b[0m\n\u001b[0m\u001b[0;32m    497\u001b[0m                 \u001b[1;31m# transpose font optionally\u001b[0m\u001b[1;33m\u001b[0m\u001b[1;33m\u001b[0m\u001b[0m\n\u001b[0;32m    498\u001b[0m                 transposed_font = ImageFont.TransposedFont(\n",
      "\u001b[1;32mC:\\Software\\Anaconda\\lib\\site-packages\\PIL\\ImageFont.py\u001b[0m in \u001b[0;36mtruetype\u001b[1;34m(font, size, index, encoding, layout_engine)\u001b[0m\n\u001b[0;32m    853\u001b[0m             \u001b[1;31m# NOTE: must use uppercase WINDIR, to work around bugs in\u001b[0m\u001b[1;33m\u001b[0m\u001b[1;33m\u001b[0m\u001b[0m\n\u001b[0;32m    854\u001b[0m             \u001b[1;31m# 1.5.2's os.environ.get()\u001b[0m\u001b[1;33m\u001b[0m\u001b[1;33m\u001b[0m\u001b[0m\n\u001b[1;32m--> 855\u001b[1;33m             \u001b[0mwindir\u001b[0m \u001b[1;33m=\u001b[0m \u001b[0mos\u001b[0m\u001b[1;33m.\u001b[0m\u001b[0menviron\u001b[0m\u001b[1;33m.\u001b[0m\u001b[0mget\u001b[0m\u001b[1;33m(\u001b[0m\u001b[1;34m\"WINDIR\"\u001b[0m\u001b[1;33m)\u001b[0m\u001b[1;33m\u001b[0m\u001b[1;33m\u001b[0m\u001b[0m\n\u001b[0m\u001b[0;32m    856\u001b[0m             \u001b[1;32mif\u001b[0m \u001b[0mwindir\u001b[0m\u001b[1;33m:\u001b[0m\u001b[1;33m\u001b[0m\u001b[1;33m\u001b[0m\u001b[0m\n\u001b[0;32m    857\u001b[0m                 \u001b[0mdirs\u001b[0m\u001b[1;33m.\u001b[0m\u001b[0mappend\u001b[0m\u001b[1;33m(\u001b[0m\u001b[0mos\u001b[0m\u001b[1;33m.\u001b[0m\u001b[0mpath\u001b[0m\u001b[1;33m.\u001b[0m\u001b[0mjoin\u001b[0m\u001b[1;33m(\u001b[0m\u001b[0mwindir\u001b[0m\u001b[1;33m,\u001b[0m \u001b[1;34m\"fonts\"\u001b[0m\u001b[1;33m)\u001b[0m\u001b[1;33m)\u001b[0m\u001b[1;33m\u001b[0m\u001b[1;33m\u001b[0m\u001b[0m\n",
      "\u001b[1;32mC:\\Software\\Anaconda\\lib\\site-packages\\PIL\\ImageFont.py\u001b[0m in \u001b[0;36mfreetype\u001b[1;34m(font)\u001b[0m\n\u001b[0;32m    850\u001b[0m         \u001b[0mdirs\u001b[0m \u001b[1;33m=\u001b[0m \u001b[1;33m[\u001b[0m\u001b[1;33m]\u001b[0m\u001b[1;33m\u001b[0m\u001b[1;33m\u001b[0m\u001b[0m\n\u001b[0;32m    851\u001b[0m         \u001b[1;32mif\u001b[0m \u001b[0msys\u001b[0m\u001b[1;33m.\u001b[0m\u001b[0mplatform\u001b[0m \u001b[1;33m==\u001b[0m \u001b[1;34m\"win32\"\u001b[0m\u001b[1;33m:\u001b[0m\u001b[1;33m\u001b[0m\u001b[1;33m\u001b[0m\u001b[0m\n\u001b[1;32m--> 852\u001b[1;33m             \u001b[1;31m# check the windows font repository\u001b[0m\u001b[1;33m\u001b[0m\u001b[1;33m\u001b[0m\u001b[0m\n\u001b[0m\u001b[0;32m    853\u001b[0m             \u001b[1;31m# NOTE: must use uppercase WINDIR, to work around bugs in\u001b[0m\u001b[1;33m\u001b[0m\u001b[1;33m\u001b[0m\u001b[0m\n\u001b[0;32m    854\u001b[0m             \u001b[1;31m# 1.5.2's os.environ.get()\u001b[0m\u001b[1;33m\u001b[0m\u001b[1;33m\u001b[0m\u001b[0m\n",
      "\u001b[1;32mC:\\Software\\Anaconda\\lib\\site-packages\\PIL\\ImageFont.py\u001b[0m in \u001b[0;36m__init__\u001b[1;34m(self, font, size, index, encoding, layout_engine)\u001b[0m\n\u001b[0;32m    185\u001b[0m                 \u001b[1;32mtry\u001b[0m\u001b[1;33m:\u001b[0m\u001b[1;33m\u001b[0m\u001b[1;33m\u001b[0m\u001b[0m\n\u001b[0;32m    186\u001b[0m                     \u001b[0mfont_bytes_path\u001b[0m\u001b[1;33m.\u001b[0m\u001b[0mdecode\u001b[0m\u001b[1;33m(\u001b[0m\u001b[1;34m\"ascii\"\u001b[0m\u001b[1;33m)\u001b[0m\u001b[1;33m\u001b[0m\u001b[1;33m\u001b[0m\u001b[0m\n\u001b[1;32m--> 187\u001b[1;33m                 \u001b[1;32mexcept\u001b[0m \u001b[0mUnicodeDecodeError\u001b[0m\u001b[1;33m:\u001b[0m\u001b[1;33m\u001b[0m\u001b[1;33m\u001b[0m\u001b[0m\n\u001b[0m\u001b[0;32m    188\u001b[0m                     \u001b[1;31m# FreeType cannot load fonts with non-ASCII characters on Windows\u001b[0m\u001b[1;33m\u001b[0m\u001b[1;33m\u001b[0m\u001b[0m\n\u001b[0;32m    189\u001b[0m                     \u001b[1;31m# So load it into memory first\u001b[0m\u001b[1;33m\u001b[0m\u001b[1;33m\u001b[0m\u001b[0m\n",
      "\u001b[1;32mC:\\Software\\Anaconda\\lib\\site-packages\\PIL\\ImageFont.py\u001b[0m in \u001b[0;36m__getattr__\u001b[1;34m(self, id)\u001b[0m\n\u001b[0;32m     42\u001b[0m     \u001b[1;32mdef\u001b[0m \u001b[0m__getattr__\u001b[0m\u001b[1;33m(\u001b[0m\u001b[0mself\u001b[0m\u001b[1;33m,\u001b[0m \u001b[0mid\u001b[0m\u001b[1;33m)\u001b[0m\u001b[1;33m:\u001b[0m\u001b[1;33m\u001b[0m\u001b[1;33m\u001b[0m\u001b[0m\n\u001b[0;32m     43\u001b[0m         \u001b[1;32mraise\u001b[0m \u001b[0mImportError\u001b[0m\u001b[1;33m(\u001b[0m\u001b[1;34m\"The _imagingft C module is not installed\"\u001b[0m\u001b[1;33m)\u001b[0m\u001b[1;33m\u001b[0m\u001b[1;33m\u001b[0m\u001b[0m\n\u001b[1;32m---> 44\u001b[1;33m \u001b[1;33m\u001b[0m\u001b[0m\n\u001b[0m\u001b[0;32m     45\u001b[0m \u001b[1;33m\u001b[0m\u001b[0m\n\u001b[0;32m     46\u001b[0m \u001b[1;32mtry\u001b[0m\u001b[1;33m:\u001b[0m\u001b[1;33m\u001b[0m\u001b[1;33m\u001b[0m\u001b[0m\n",
      "\u001b[1;31mImportError\u001b[0m: The _imagingft C module is not installed"
     ]
    }
   ],
   "source": [
    "hs_words = ' '.join([word for word in dataset['Ready'][dataset['Label']==1]])\n",
    "\n",
    "wordcloud = WordCloud(\n",
    "                      max_words=100,\n",
    "                      background_color=\"white\",\n",
    "                      prefer_horizontal=0.80).generate(hs_words)\n",
    "\n",
    "plt.figure(figsize=(12,10))\n",
    "plt.imshow(wordcloud, interpolation='bilinear')\n",
    "plt.axis('off')\n",
    "plt.show()"
   ]
  },
  {
   "cell_type": "code",
   "execution_count": null,
   "id": "798af17c",
   "metadata": {},
   "outputs": [],
   "source": []
  },
  {
   "cell_type": "code",
   "execution_count": null,
   "id": "f3e465d9",
   "metadata": {},
   "outputs": [],
   "source": []
  },
  {
   "cell_type": "code",
   "execution_count": null,
   "id": "1215e034",
   "metadata": {},
   "outputs": [],
   "source": []
  },
  {
   "cell_type": "code",
   "execution_count": null,
   "id": "4c362502",
   "metadata": {},
   "outputs": [],
   "source": []
  },
  {
   "cell_type": "code",
   "execution_count": null,
   "id": "f1e9cb4f",
   "metadata": {},
   "outputs": [],
   "source": []
  },
  {
   "cell_type": "code",
   "execution_count": null,
   "id": "d6b823a6",
   "metadata": {},
   "outputs": [],
   "source": []
  },
  {
   "cell_type": "code",
   "execution_count": null,
   "id": "ab6738ba",
   "metadata": {},
   "outputs": [],
   "source": []
  },
  {
   "cell_type": "code",
   "execution_count": null,
   "id": "a70942fa",
   "metadata": {},
   "outputs": [],
   "source": []
  }
 ],
 "metadata": {
  "kernelspec": {
   "display_name": "Python 3 (ipykernel)",
   "language": "python",
   "name": "python3"
  },
  "language_info": {
   "codemirror_mode": {
    "name": "ipython",
    "version": 3
   },
   "file_extension": ".py",
   "mimetype": "text/x-python",
   "name": "python",
   "nbconvert_exporter": "python",
   "pygments_lexer": "ipython3",
   "version": "3.9.7"
  }
 },
 "nbformat": 4,
 "nbformat_minor": 5
}
