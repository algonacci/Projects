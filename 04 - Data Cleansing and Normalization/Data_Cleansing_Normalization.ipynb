{
 "cells": [
  {
   "cell_type": "markdown",
   "id": "a092a903",
   "metadata": {},
   "source": [
    "### Import Library and Dataset"
   ]
  },
  {
   "cell_type": "code",
   "execution_count": 1,
   "id": "8488df3e",
   "metadata": {},
   "outputs": [],
   "source": [
    "import pandas as pd\n",
    "import matplotlib.pyplot as plt"
   ]
  },
  {
   "cell_type": "code",
   "execution_count": 2,
   "id": "841b671f",
   "metadata": {},
   "outputs": [
    {
     "data": {
      "text/html": [
       "<div>\n",
       "<style scoped>\n",
       "    .dataframe tbody tr th:only-of-type {\n",
       "        vertical-align: middle;\n",
       "    }\n",
       "\n",
       "    .dataframe tbody tr th {\n",
       "        vertical-align: top;\n",
       "    }\n",
       "\n",
       "    .dataframe thead th {\n",
       "        text-align: right;\n",
       "    }\n",
       "</style>\n",
       "<table border=\"1\" class=\"dataframe\">\n",
       "  <thead>\n",
       "    <tr style=\"text-align: right;\">\n",
       "      <th></th>\n",
       "      <th>PH</th>\n",
       "      <th>cahaya</th>\n",
       "      <th>intensitas air</th>\n",
       "      <th>suhu</th>\n",
       "      <th>PPM</th>\n",
       "      <th>tinggi air</th>\n",
       "      <th>aksi</th>\n",
       "    </tr>\n",
       "  </thead>\n",
       "  <tbody>\n",
       "    <tr>\n",
       "      <th>0</th>\n",
       "      <td>6.5</td>\n",
       "      <td>Ada</td>\n",
       "      <td>Tinggi</td>\n",
       "      <td>27.0</td>\n",
       "      <td>188.0</td>\n",
       "      <td>622</td>\n",
       "      <td>Hidupkan Lampu dan Pompa nutrisi TDS</td>\n",
       "    </tr>\n",
       "    <tr>\n",
       "      <th>1</th>\n",
       "      <td>5.7</td>\n",
       "      <td>Ada</td>\n",
       "      <td>Tinggi</td>\n",
       "      <td>26.9</td>\n",
       "      <td>79.0</td>\n",
       "      <td>557</td>\n",
       "      <td>Hidupkan Lampu dan Pompa nutrisi TDS</td>\n",
       "    </tr>\n",
       "    <tr>\n",
       "      <th>2</th>\n",
       "      <td>6.0</td>\n",
       "      <td>Ada</td>\n",
       "      <td>Tinggi</td>\n",
       "      <td>27.0</td>\n",
       "      <td>11.0</td>\n",
       "      <td>491</td>\n",
       "      <td>Hidupkan Lampu dan Pompa nutrisi TDS</td>\n",
       "    </tr>\n",
       "    <tr>\n",
       "      <th>3</th>\n",
       "      <td>6.5</td>\n",
       "      <td>Ada</td>\n",
       "      <td>Tinggi</td>\n",
       "      <td>27.1</td>\n",
       "      <td>345.0</td>\n",
       "      <td>12000</td>\n",
       "      <td>Tidak melakukan apa-apa</td>\n",
       "    </tr>\n",
       "    <tr>\n",
       "      <th>4</th>\n",
       "      <td>6.2</td>\n",
       "      <td>NaN</td>\n",
       "      <td>Tinggi</td>\n",
       "      <td>27.1</td>\n",
       "      <td>602.0</td>\n",
       "      <td>444</td>\n",
       "      <td>Tidak melakukan apa-apa</td>\n",
       "    </tr>\n",
       "    <tr>\n",
       "      <th>...</th>\n",
       "      <td>...</td>\n",
       "      <td>...</td>\n",
       "      <td>...</td>\n",
       "      <td>...</td>\n",
       "      <td>...</td>\n",
       "      <td>...</td>\n",
       "      <td>...</td>\n",
       "    </tr>\n",
       "    <tr>\n",
       "      <th>611</th>\n",
       "      <td>4.6</td>\n",
       "      <td>Ada</td>\n",
       "      <td>Rendah sekali</td>\n",
       "      <td>25.3</td>\n",
       "      <td>904.0</td>\n",
       "      <td>47</td>\n",
       "      <td>Hidupkan Lampu</td>\n",
       "    </tr>\n",
       "    <tr>\n",
       "      <th>612</th>\n",
       "      <td>2.1</td>\n",
       "      <td>Ada</td>\n",
       "      <td>Rendah sekali</td>\n",
       "      <td>25.0</td>\n",
       "      <td>388.0</td>\n",
       "      <td>18</td>\n",
       "      <td>Hidupkan Lampu dan Pompa nutrisi TDS</td>\n",
       "    </tr>\n",
       "    <tr>\n",
       "      <th>613</th>\n",
       "      <td>3.2</td>\n",
       "      <td>Ada</td>\n",
       "      <td>Rendah sekali</td>\n",
       "      <td>25.3</td>\n",
       "      <td>793.0</td>\n",
       "      <td>19</td>\n",
       "      <td>Hidupkan Lampu</td>\n",
       "    </tr>\n",
       "    <tr>\n",
       "      <th>614</th>\n",
       "      <td>1.4</td>\n",
       "      <td>Ada</td>\n",
       "      <td>Rendah sekali</td>\n",
       "      <td>25.4</td>\n",
       "      <td>1052.0</td>\n",
       "      <td>3</td>\n",
       "      <td>Hidupkan Lampu</td>\n",
       "    </tr>\n",
       "    <tr>\n",
       "      <th>615</th>\n",
       "      <td>5.0</td>\n",
       "      <td>Ada</td>\n",
       "      <td>Rendah sekali</td>\n",
       "      <td>25.3</td>\n",
       "      <td>977.0</td>\n",
       "      <td>19</td>\n",
       "      <td>Hidupkan Lampu</td>\n",
       "    </tr>\n",
       "  </tbody>\n",
       "</table>\n",
       "<p>616 rows × 7 columns</p>\n",
       "</div>"
      ],
      "text/plain": [
       "      PH cahaya intensitas air  suhu     PPM  tinggi air  \\\n",
       "0    6.5    Ada         Tinggi  27.0   188.0         622   \n",
       "1    5.7    Ada         Tinggi  26.9    79.0         557   \n",
       "2    6.0    Ada         Tinggi  27.0    11.0         491   \n",
       "3    6.5    Ada         Tinggi  27.1   345.0       12000   \n",
       "4    6.2    NaN         Tinggi  27.1   602.0         444   \n",
       "..   ...    ...            ...   ...     ...         ...   \n",
       "611  4.6    Ada  Rendah sekali  25.3   904.0          47   \n",
       "612  2.1    Ada  Rendah sekali  25.0   388.0          18   \n",
       "613  3.2    Ada  Rendah sekali  25.3   793.0          19   \n",
       "614  1.4    Ada  Rendah sekali  25.4  1052.0           3   \n",
       "615  5.0    Ada  Rendah sekali  25.3   977.0          19   \n",
       "\n",
       "                                     aksi  \n",
       "0    Hidupkan Lampu dan Pompa nutrisi TDS  \n",
       "1    Hidupkan Lampu dan Pompa nutrisi TDS  \n",
       "2    Hidupkan Lampu dan Pompa nutrisi TDS  \n",
       "3                 Tidak melakukan apa-apa  \n",
       "4                 Tidak melakukan apa-apa  \n",
       "..                                    ...  \n",
       "611                        Hidupkan Lampu  \n",
       "612  Hidupkan Lampu dan Pompa nutrisi TDS  \n",
       "613                        Hidupkan Lampu  \n",
       "614                        Hidupkan Lampu  \n",
       "615                        Hidupkan Lampu  \n",
       "\n",
       "[616 rows x 7 columns]"
      ]
     },
     "execution_count": 2,
     "metadata": {},
     "output_type": "execute_result"
    }
   ],
   "source": [
    "data = pd.read_csv('https://raw.githubusercontent.com/algonacci/DataWarehouse/main/activity_km_07_01.csv')\n",
    "data"
   ]
  },
  {
   "cell_type": "markdown",
   "id": "5cc80dc6",
   "metadata": {},
   "source": [
    "### Normalization"
   ]
  },
  {
   "cell_type": "code",
   "execution_count": 3,
   "id": "2167585e",
   "metadata": {},
   "outputs": [
    {
     "data": {
      "text/html": [
       "<div>\n",
       "<style scoped>\n",
       "    .dataframe tbody tr th:only-of-type {\n",
       "        vertical-align: middle;\n",
       "    }\n",
       "\n",
       "    .dataframe tbody tr th {\n",
       "        vertical-align: top;\n",
       "    }\n",
       "\n",
       "    .dataframe thead th {\n",
       "        text-align: right;\n",
       "    }\n",
       "</style>\n",
       "<table border=\"1\" class=\"dataframe\">\n",
       "  <thead>\n",
       "    <tr style=\"text-align: right;\">\n",
       "      <th></th>\n",
       "      <th>PH</th>\n",
       "      <th>cahaya</th>\n",
       "      <th>intensitas_air</th>\n",
       "      <th>suhu</th>\n",
       "      <th>PPM</th>\n",
       "      <th>tinggi_air</th>\n",
       "      <th>aksi</th>\n",
       "    </tr>\n",
       "  </thead>\n",
       "  <tbody>\n",
       "    <tr>\n",
       "      <th>0</th>\n",
       "      <td>6.5</td>\n",
       "      <td>Ada</td>\n",
       "      <td>Tinggi</td>\n",
       "      <td>27.0</td>\n",
       "      <td>188.0</td>\n",
       "      <td>622</td>\n",
       "      <td>Hidupkan Lampu dan Pompa nutrisi TDS</td>\n",
       "    </tr>\n",
       "    <tr>\n",
       "      <th>1</th>\n",
       "      <td>5.7</td>\n",
       "      <td>Ada</td>\n",
       "      <td>Tinggi</td>\n",
       "      <td>26.9</td>\n",
       "      <td>79.0</td>\n",
       "      <td>557</td>\n",
       "      <td>Hidupkan Lampu dan Pompa nutrisi TDS</td>\n",
       "    </tr>\n",
       "    <tr>\n",
       "      <th>2</th>\n",
       "      <td>6.0</td>\n",
       "      <td>Ada</td>\n",
       "      <td>Tinggi</td>\n",
       "      <td>27.0</td>\n",
       "      <td>11.0</td>\n",
       "      <td>491</td>\n",
       "      <td>Hidupkan Lampu dan Pompa nutrisi TDS</td>\n",
       "    </tr>\n",
       "    <tr>\n",
       "      <th>3</th>\n",
       "      <td>6.5</td>\n",
       "      <td>Ada</td>\n",
       "      <td>Tinggi</td>\n",
       "      <td>27.1</td>\n",
       "      <td>345.0</td>\n",
       "      <td>12000</td>\n",
       "      <td>Tidak melakukan apa-apa</td>\n",
       "    </tr>\n",
       "    <tr>\n",
       "      <th>4</th>\n",
       "      <td>6.2</td>\n",
       "      <td>NaN</td>\n",
       "      <td>Tinggi</td>\n",
       "      <td>27.1</td>\n",
       "      <td>602.0</td>\n",
       "      <td>444</td>\n",
       "      <td>Tidak melakukan apa-apa</td>\n",
       "    </tr>\n",
       "  </tbody>\n",
       "</table>\n",
       "</div>"
      ],
      "text/plain": [
       "    PH cahaya intensitas_air  suhu    PPM  tinggi_air  \\\n",
       "0  6.5    Ada         Tinggi  27.0  188.0         622   \n",
       "1  5.7    Ada         Tinggi  26.9   79.0         557   \n",
       "2  6.0    Ada         Tinggi  27.0   11.0         491   \n",
       "3  6.5    Ada         Tinggi  27.1  345.0       12000   \n",
       "4  6.2    NaN         Tinggi  27.1  602.0         444   \n",
       "\n",
       "                                   aksi  \n",
       "0  Hidupkan Lampu dan Pompa nutrisi TDS  \n",
       "1  Hidupkan Lampu dan Pompa nutrisi TDS  \n",
       "2  Hidupkan Lampu dan Pompa nutrisi TDS  \n",
       "3               Tidak melakukan apa-apa  \n",
       "4               Tidak melakukan apa-apa  "
      ]
     },
     "execution_count": 3,
     "metadata": {},
     "output_type": "execute_result"
    }
   ],
   "source": [
    "data.rename(columns={\n",
    "    \"intensitas air\" : \"intensitas_air\",\n",
    "    \"tinggi air\" : \"tinggi_air\"\n",
    "}, inplace=True)\n",
    "data.head()"
   ]
  },
  {
   "cell_type": "code",
   "execution_count": 4,
   "id": "6ac4b758",
   "metadata": {},
   "outputs": [
    {
     "data": {
      "text/plain": [
       "PH                float64\n",
       "cahaya             object\n",
       "intensitas_air     object\n",
       "suhu              float64\n",
       "PPM               float64\n",
       "tinggi_air          int64\n",
       "aksi               object\n",
       "dtype: object"
      ]
     },
     "execution_count": 4,
     "metadata": {},
     "output_type": "execute_result"
    }
   ],
   "source": [
    "data.dtypes"
   ]
  },
  {
   "cell_type": "code",
   "execution_count": 5,
   "id": "733a25a0",
   "metadata": {},
   "outputs": [
    {
     "data": {
      "text/plain": [
       "Ada          302\n",
       "Tidak ada    288\n",
       "Name: cahaya, dtype: int64"
      ]
     },
     "execution_count": 5,
     "metadata": {},
     "output_type": "execute_result"
    }
   ],
   "source": [
    "data[\"cahaya\"].value_counts()"
   ]
  },
  {
   "cell_type": "code",
   "execution_count": 6,
   "id": "fb53fd1a",
   "metadata": {},
   "outputs": [
    {
     "data": {
      "text/plain": [
       "Tinggi           154\n",
       "Cukup            154\n",
       "Rendah           154\n",
       "Rendah sekali    154\n",
       "Name: intensitas_air, dtype: int64"
      ]
     },
     "execution_count": 6,
     "metadata": {},
     "output_type": "execute_result"
    }
   ],
   "source": [
    "data[\"intensitas_air\"].value_counts()"
   ]
  },
  {
   "cell_type": "code",
   "execution_count": 7,
   "id": "dfed2548",
   "metadata": {},
   "outputs": [
    {
     "data": {
      "text/plain": [
       "Tidak melakukan apa-apa                 473\n",
       "Hidupkan Lampu                           92\n",
       "Hidupkan Lampu dan Pompa nutrisi TDS     39\n",
       "Hidupkan Pompa nutrisi TDS               12\n",
       "Name: aksi, dtype: int64"
      ]
     },
     "execution_count": 7,
     "metadata": {},
     "output_type": "execute_result"
    }
   ],
   "source": [
    "data['aksi'].value_counts()"
   ]
  },
  {
   "cell_type": "code",
   "execution_count": 10,
   "id": "2a39ac79",
   "metadata": {},
   "outputs": [],
   "source": [
    "kategorikal = {\"cahaya\":\n",
    "               {\"Tidak ada\": 0, \"Ada\": 1},\n",
    "               \"intensitas_air\":\n",
    "               {\"Rendah Sekali\": 0, \"Rendah\": 1, \"Cukup\": 2, \"Tinggi\": 3,},\n",
    "               \"aksi\":\n",
    "               {\"Tidak melakukan apa-apa\" : 0, \"Hidupkan Lampu\" : 1, \"Hidupkan Lampu dan Pompa nutrisi TDS\" : 2, \"Hidupkan Pompa nutrisi TDS\" : 3}\n",
    "               ,}"
   ]
  },
  {
   "cell_type": "code",
   "execution_count": 11,
   "id": "4e33d0de",
   "metadata": {},
   "outputs": [
    {
     "data": {
      "text/html": [
       "<div>\n",
       "<style scoped>\n",
       "    .dataframe tbody tr th:only-of-type {\n",
       "        vertical-align: middle;\n",
       "    }\n",
       "\n",
       "    .dataframe tbody tr th {\n",
       "        vertical-align: top;\n",
       "    }\n",
       "\n",
       "    .dataframe thead th {\n",
       "        text-align: right;\n",
       "    }\n",
       "</style>\n",
       "<table border=\"1\" class=\"dataframe\">\n",
       "  <thead>\n",
       "    <tr style=\"text-align: right;\">\n",
       "      <th></th>\n",
       "      <th>PH</th>\n",
       "      <th>cahaya</th>\n",
       "      <th>intensitas_air</th>\n",
       "      <th>suhu</th>\n",
       "      <th>PPM</th>\n",
       "      <th>tinggi_air</th>\n",
       "      <th>aksi</th>\n",
       "    </tr>\n",
       "  </thead>\n",
       "  <tbody>\n",
       "    <tr>\n",
       "      <th>0</th>\n",
       "      <td>6.5</td>\n",
       "      <td>1.0</td>\n",
       "      <td>3</td>\n",
       "      <td>27.0</td>\n",
       "      <td>188.0</td>\n",
       "      <td>622</td>\n",
       "      <td>2</td>\n",
       "    </tr>\n",
       "    <tr>\n",
       "      <th>1</th>\n",
       "      <td>5.7</td>\n",
       "      <td>1.0</td>\n",
       "      <td>3</td>\n",
       "      <td>26.9</td>\n",
       "      <td>79.0</td>\n",
       "      <td>557</td>\n",
       "      <td>2</td>\n",
       "    </tr>\n",
       "    <tr>\n",
       "      <th>2</th>\n",
       "      <td>6.0</td>\n",
       "      <td>1.0</td>\n",
       "      <td>3</td>\n",
       "      <td>27.0</td>\n",
       "      <td>11.0</td>\n",
       "      <td>491</td>\n",
       "      <td>2</td>\n",
       "    </tr>\n",
       "    <tr>\n",
       "      <th>3</th>\n",
       "      <td>6.5</td>\n",
       "      <td>1.0</td>\n",
       "      <td>3</td>\n",
       "      <td>27.1</td>\n",
       "      <td>345.0</td>\n",
       "      <td>12000</td>\n",
       "      <td>0</td>\n",
       "    </tr>\n",
       "    <tr>\n",
       "      <th>4</th>\n",
       "      <td>6.2</td>\n",
       "      <td>NaN</td>\n",
       "      <td>3</td>\n",
       "      <td>27.1</td>\n",
       "      <td>602.0</td>\n",
       "      <td>444</td>\n",
       "      <td>0</td>\n",
       "    </tr>\n",
       "  </tbody>\n",
       "</table>\n",
       "</div>"
      ],
      "text/plain": [
       "    PH  cahaya intensitas_air  suhu    PPM  tinggi_air  aksi\n",
       "0  6.5     1.0              3  27.0  188.0         622     2\n",
       "1  5.7     1.0              3  26.9   79.0         557     2\n",
       "2  6.0     1.0              3  27.0   11.0         491     2\n",
       "3  6.5     1.0              3  27.1  345.0       12000     0\n",
       "4  6.2     NaN              3  27.1  602.0         444     0"
      ]
     },
     "execution_count": 11,
     "metadata": {},
     "output_type": "execute_result"
    }
   ],
   "source": [
    "data = data.replace(kategorikal)\n",
    "data.head()"
   ]
  },
  {
   "cell_type": "markdown",
   "id": "61679a27",
   "metadata": {},
   "source": [
    "### Handle Missing Value"
   ]
  },
  {
   "cell_type": "code",
   "execution_count": 12,
   "id": "d2167cdc",
   "metadata": {},
   "outputs": [
    {
     "data": {
      "text/plain": [
       "PH                16\n",
       "cahaya            26\n",
       "intensitas_air     0\n",
       "suhu              27\n",
       "PPM                5\n",
       "tinggi_air         0\n",
       "aksi               0\n",
       "dtype: int64"
      ]
     },
     "execution_count": 12,
     "metadata": {},
     "output_type": "execute_result"
    }
   ],
   "source": [
    "data.isnull().sum()"
   ]
  },
  {
   "cell_type": "code",
   "execution_count": 13,
   "id": "3a6f04e0",
   "metadata": {},
   "outputs": [
    {
     "data": {
      "text/plain": [
       "74"
      ]
     },
     "execution_count": 13,
     "metadata": {},
     "output_type": "execute_result"
    }
   ],
   "source": [
    "data.isnull().sum().sum()"
   ]
  },
  {
   "cell_type": "markdown",
   "id": "593e3856",
   "metadata": {},
   "source": [
    "#### Detect Outliers"
   ]
  },
  {
   "cell_type": "code",
   "execution_count": 14,
   "id": "2f417b0c",
   "metadata": {},
   "outputs": [
    {
     "name": "stderr",
     "output_type": "stream",
     "text": [
      "C:\\Users\\Vulcan\\AppData\\Roaming\\Python\\Python39\\site-packages\\numpy\\core\\_asarray.py:83: VisibleDeprecationWarning: Creating an ndarray from ragged nested sequences (which is a list-or-tuple of lists-or-tuples-or ndarrays with different lengths or shapes) is deprecated. If you meant to do this, you must specify 'dtype=object' when creating the ndarray\n",
      "  return array(a, dtype, copy=False, order=order)\n"
     ]
    },
    {
     "data": {
      "image/png": "[encoded data removed]",
      "text/plain": [
       "<Figure size 432x288 with 1 Axes>"
      ]
     },
     "metadata": {
      "needs_background": "light"
     },
     "output_type": "display_data"
    }
   ],
   "source": [
    "data.boxplot()\n",
    "plt.show()"
   ]
  },
  {
   "cell_type": "code",
   "execution_count": 15,
   "id": "9b9e4094",
   "metadata": {},
   "outputs": [
    {
     "data": {
      "text/plain": [
       "PH                 0\n",
       "cahaya            26\n",
       "intensitas_air     0\n",
       "suhu              27\n",
       "PPM                5\n",
       "tinggi_air         0\n",
       "aksi               0\n",
       "dtype: int64"
      ]
     },
     "execution_count": 15,
     "metadata": {},
     "output_type": "execute_result"
    }
   ],
   "source": [
    "data['PH']=data['PH'].fillna(data['PH'].mean())\n",
    "data.isnull().sum()"
   ]
  },
  {
   "cell_type": "code",
   "execution_count": 16,
   "id": "90aa1b1a",
   "metadata": {},
   "outputs": [
    {
     "data": {
      "text/plain": [
       "PH                 0\n",
       "cahaya             0\n",
       "intensitas_air     0\n",
       "suhu              27\n",
       "PPM                5\n",
       "tinggi_air         0\n",
       "aksi               0\n",
       "dtype: int64"
      ]
     },
     "execution_count": 16,
     "metadata": {},
     "output_type": "execute_result"
    }
   ],
   "source": [
    "data['cahaya'].fillna(method='bfill', inplace=True)\n",
    "data.isnull().sum()"
   ]
  },
  {
   "cell_type": "code",
   "execution_count": 17,
   "id": "e07b1c61",
   "metadata": {},
   "outputs": [
    {
     "data": {
      "text/plain": [
       "0      1.0\n",
       "1      1.0\n",
       "2      1.0\n",
       "3      1.0\n",
       "4      1.0\n",
       "      ... \n",
       "182    0.0\n",
       "183    0.0\n",
       "184    0.0\n",
       "185    0.0\n",
       "186    0.0\n",
       "Name: cahaya, Length: 187, dtype: float64"
      ]
     },
     "execution_count": 17,
     "metadata": {},
     "output_type": "execute_result"
    }
   ],
   "source": [
    "data['cahaya'].head(187)"
   ]
  },
  {
   "cell_type": "code",
   "execution_count": 18,
   "id": "c678a3cb",
   "metadata": {},
   "outputs": [
    {
     "data": {
      "text/plain": [
       "count    589.000000\n",
       "mean      29.364007\n",
       "std       14.937524\n",
       "min     -300.000000\n",
       "25%       27.100000\n",
       "50%       29.900000\n",
       "75%       33.000000\n",
       "max       40.600000\n",
       "Name: suhu, dtype: float64"
      ]
     },
     "execution_count": 18,
     "metadata": {},
     "output_type": "execute_result"
    }
   ],
   "source": [
    "data['suhu'].describe()"
   ]
  },
  {
   "cell_type": "code",
   "execution_count": 19,
   "id": "7b721739",
   "metadata": {},
   "outputs": [
    {
     "data": {
      "text/plain": [
       "count    587.000000\n",
       "mean      30.145486\n",
       "std        3.098507\n",
       "min       25.000000\n",
       "25%       27.100000\n",
       "50%       29.900000\n",
       "75%       33.000000\n",
       "max       40.600000\n",
       "Name: suhu, dtype: float64"
      ]
     },
     "execution_count": 19,
     "metadata": {},
     "output_type": "execute_result"
    }
   ],
   "source": [
    "data.drop([109,118], axis=0, inplace=True)\n",
    "data['suhu'].describe()"
   ]
  },
  {
   "cell_type": "code",
   "execution_count": 20,
   "id": "a40ace4c",
   "metadata": {},
   "outputs": [
    {
     "data": {
      "text/plain": [
       "PH                0\n",
       "cahaya            0\n",
       "intensitas_air    0\n",
       "suhu              0\n",
       "PPM               5\n",
       "tinggi_air        0\n",
       "aksi              0\n",
       "dtype: int64"
      ]
     },
     "execution_count": 20,
     "metadata": {},
     "output_type": "execute_result"
    }
   ],
   "source": [
    "data['suhu']=data['suhu'].fillna(data['suhu'].mean())\n",
    "data.isnull().sum()"
   ]
  },
  {
   "cell_type": "code",
   "execution_count": 21,
   "id": "18000ddd",
   "metadata": {},
   "outputs": [
    {
     "data": {
      "text/plain": [
       "PH                0\n",
       "cahaya            0\n",
       "intensitas_air    0\n",
       "suhu              0\n",
       "PPM               0\n",
       "tinggi_air        0\n",
       "aksi              0\n",
       "dtype: int64"
      ]
     },
     "execution_count": 21,
     "metadata": {},
     "output_type": "execute_result"
    }
   ],
   "source": [
    "data['PPM']=data['PPM'].fillna(data['PPM'].median())\n",
    "data.isnull().sum()"
   ]
  },
  {
   "cell_type": "code",
   "execution_count": 22,
   "id": "ef0d33ab",
   "metadata": {},
   "outputs": [
    {
     "data": {
      "text/plain": [
       "count      614.000000\n",
       "mean       287.442997\n",
       "std        623.307663\n",
       "min          0.000000\n",
       "25%         50.000000\n",
       "50%        228.500000\n",
       "75%        429.000000\n",
       "max      12000.000000\n",
       "Name: tinggi_air, dtype: float64"
      ]
     },
     "execution_count": 22,
     "metadata": {},
     "output_type": "execute_result"
    }
   ],
   "source": [
    "data['tinggi_air'].describe()"
   ]
  },
  {
   "cell_type": "code",
   "execution_count": 23,
   "id": "81df86e9",
   "metadata": {},
   "outputs": [
    {
     "data": {
      "text/plain": [
       "3     12000\n",
       "77     9000\n",
       "Name: tinggi_air, dtype: int64"
      ]
     },
     "execution_count": 23,
     "metadata": {},
     "output_type": "execute_result"
    }
   ],
   "source": [
    "data['tinggi_air'].iloc[[3,77]]"
   ]
  },
  {
   "cell_type": "code",
   "execution_count": 24,
   "id": "64ddf23e",
   "metadata": {},
   "outputs": [
    {
     "data": {
      "text/plain": [
       "count    612.000000\n",
       "mean     254.068627\n",
       "std      199.769962\n",
       "min        0.000000\n",
       "25%       50.000000\n",
       "50%      226.500000\n",
       "75%      429.000000\n",
       "max      629.000000\n",
       "Name: tinggi_air, dtype: float64"
      ]
     },
     "execution_count": 24,
     "metadata": {},
     "output_type": "execute_result"
    }
   ],
   "source": [
    "data.drop([3,77], axis=0, inplace=True)\n",
    "data['tinggi_air'].describe()"
   ]
  },
  {
   "cell_type": "code",
   "execution_count": 25,
   "id": "889f26fd",
   "metadata": {},
   "outputs": [
    {
     "data": {
      "image/png": "[encoded data removed]",
      "text/plain": [
       "<Figure size 432x288 with 1 Axes>"
      ]
     },
     "metadata": {
      "needs_background": "light"
     },
     "output_type": "display_data"
    }
   ],
   "source": [
    "data.boxplot()\n",
    "plt.show()"
   ]
  }
 ],
 "metadata": {
  "kernelspec": {
   "display_name": "Python 3 (ipykernel)",
   "language": "python",
   "name": "python3"
  },
  "language_info": {
   "codemirror_mode": {
    "name": "ipython",
    "version": 3
   },
   "file_extension": ".py",
   "mimetype": "text/x-python",
   "name": "python",
   "nbconvert_exporter": "python",
   "pygments_lexer": "ipython3",
   "version": "3.9.6"
  }
 },
 "nbformat": 4,
 "nbformat_minor": 5
}
