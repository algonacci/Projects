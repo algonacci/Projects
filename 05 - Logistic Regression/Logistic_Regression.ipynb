{
 "cells": [
  {
   "cell_type": "markdown",
   "id": "4e4b1254",
   "metadata": {},
   "source": [
    "### Import Library and dataset"
   ]
  },
  {
   "cell_type": "code",
   "execution_count": 1,
   "id": "fd2b55bb",
   "metadata": {},
   "outputs": [
    {
     "name": "stderr",
     "output_type": "stream",
     "text": [
      "C:\\Users\\Vulcan\\AppData\\Local\\Temp/ipykernel_13720/2500067087.py:3: FutureWarning: Dropping of nuisance columns in DataFrame reductions (with 'numeric_only=None') is deprecated; in a future version this will raise TypeError.  Select only valid columns before calling the reduction.\n",
      "  dataset.fillna(dataset.mean(), inplace = True)\n"
     ]
    }
   ],
   "source": [
    "import pandas as pd\n",
    "dataset = pd.read_csv('https://raw.githubusercontent.com/algonacci/Data-Warehouse/main/online_raw.csv')\n",
    "dataset.fillna(dataset.mean(), inplace = True)"
   ]
  },
  {
   "cell_type": "code",
   "execution_count": 2,
   "id": "5eabdb63",
   "metadata": {},
   "outputs": [],
   "source": [
    "from sklearn.preprocessing import LabelEncoder\n",
    "LE = LabelEncoder()\n",
    "dataset['Month'] = LE.fit_transform(dataset['Month'])\n",
    "LE = LabelEncoder()\n",
    "dataset['VisitorType'] = LE.fit_transform(dataset['VisitorType'])\n",
    "X = dataset.drop(['Revenue'], axis = 1)\n",
    "y = dataset['Revenue']"
   ]
  },
  {
   "cell_type": "markdown",
   "id": "fc5ee091",
   "metadata": {},
   "source": [
    "### Splitting the data"
   ]
  },
  {
   "cell_type": "code",
   "execution_count": 3,
   "id": "875d1551",
   "metadata": {},
   "outputs": [],
   "source": [
    "from sklearn.model_selection import train_test_split\n",
    "X_train, X_test, y_train, y_test = train_test_split(X, y, test_size = 0.2, random_state = 12)"
   ]
  },
  {
   "cell_type": "markdown",
   "id": "5f97fba2",
   "metadata": {},
   "source": [
    "### Make the model"
   ]
  },
  {
   "cell_type": "code",
   "execution_count": 4,
   "id": "ebfc1344",
   "metadata": {},
   "outputs": [
    {
     "name": "stderr",
     "output_type": "stream",
     "text": [
      "C:\\Python39\\lib\\site-packages\\sklearn\\linear_model\\_logistic.py:814: ConvergenceWarning: lbfgs failed to converge (status=1):\n",
      "STOP: TOTAL NO. of ITERATIONS REACHED LIMIT.\n",
      "\n",
      "Increase the number of iterations (max_iter) or scale the data as shown in:\n",
      "    https://scikit-learn.org/stable/modules/preprocessing.html\n",
      "Please also refer to the documentation for alternative solver options:\n",
      "    https://scikit-learn.org/stable/modules/linear_model.html#logistic-regression\n",
      "  n_iter_i = _check_optimize_result(\n"
     ]
    }
   ],
   "source": [
    "from sklearn.linear_model import LogisticRegression\n",
    "\n",
    "# Call the classifier\n",
    "logreg = LogisticRegression()\n",
    "# Fit the classifier to the training data  \n",
    "logreg = logreg.fit(X_train,y_train)\n",
    "#Training Model: Predict \n",
    "y_pred = logreg.predict(X_test)"
   ]
  },
  {
   "cell_type": "markdown",
   "id": "d8439cfc",
   "metadata": {},
   "source": [
    "### Evaluation"
   ]
  },
  {
   "cell_type": "code",
   "execution_count": 5,
   "id": "4c038871",
   "metadata": {},
   "outputs": [
    {
     "name": "stdout",
     "output_type": "stream",
     "text": [
      "Training Accuracy : 0.8803730738037308\n",
      "Testing Accuracy : 0.8848337388483374\n"
     ]
    }
   ],
   "source": [
    "print('Training Accuracy :', logreg.score(X_train, y_train))  \n",
    "print('Testing Accuracy :', logreg.score(X_test, y_test))  "
   ]
  },
  {
   "cell_type": "code",
   "execution_count": 8,
   "id": "acadd560",
   "metadata": {},
   "outputs": [],
   "source": [
    "from sklearn.metrics import confusion_matrix, classification_report"
   ]
  },
  {
   "cell_type": "code",
   "execution_count": 9,
   "id": "209b2e2e",
   "metadata": {},
   "outputs": [
    {
     "name": "stdout",
     "output_type": "stream",
     "text": [
      "\n",
      "Classification report\n",
      "              precision    recall  f1-score   support\n",
      "\n",
      "       False       0.90      0.97      0.93      2084\n",
      "        True       0.73      0.41      0.52       382\n",
      "\n",
      "    accuracy                           0.88      2466\n",
      "   macro avg       0.82      0.69      0.73      2466\n",
      "weighted avg       0.87      0.88      0.87      2466\n",
      "\n"
     ]
    }
   ],
   "source": [
    "print('\\nClassification report')  \n",
    "cr = classification_report(y_test, y_pred)  \n",
    "print(cr)"
   ]
  },
  {
   "cell_type": "code",
   "execution_count": 10,
   "id": "fb6f8eb2",
   "metadata": {},
   "outputs": [
    {
     "name": "stdout",
     "output_type": "stream",
     "text": [
      "\n",
      "Confusion matrix\n",
      "[[2027   57]\n",
      " [ 227  155]]\n"
     ]
    }
   ],
   "source": [
    "print('\\nConfusion matrix')  \n",
    "cm = confusion_matrix(y_test, y_pred)  \n",
    "print(cm)"
   ]
  },
  {
   "cell_type": "markdown",
   "id": "6a8bf82c",
   "metadata": {},
   "source": [
    "### Visualization"
   ]
  },
  {
   "cell_type": "code",
   "execution_count": 20,
   "id": "375584e7",
   "metadata": {},
   "outputs": [],
   "source": [
    "confusion_matrix_df = pd.DataFrame((confusion_matrix(y_test, y_pred)), ('Positive', 'Negative'), ('Positive', 'Negative'))"
   ]
  },
  {
   "cell_type": "code",
   "execution_count": 21,
   "id": "2cf29819",
   "metadata": {},
   "outputs": [
    {
     "data": {
      "image/png": "[encoded data removed]",
      "text/plain": [
       "<Figure size 432x288 with 2 Axes>"
      ]
     },
     "metadata": {
      "needs_background": "light"
     },
     "output_type": "display_data"
    }
   ],
   "source": [
    "import matplotlib.pyplot as plt\n",
    "import seaborn as sns\n",
    "\n",
    "plt.figure()\n",
    "heatmap = sns.heatmap(confusion_matrix_df, annot=True, annot_kws={'size': 14}, fmt='d', cmap='YlGnBu')\n",
    "heatmap.yaxis.set_ticklabels(heatmap.yaxis.get_ticklabels(), rotation=0, ha='right', fontsize=14)\n",
    "heatmap.xaxis.set_ticklabels(heatmap.xaxis.get_ticklabels(), rotation=0, ha='right', fontsize=14)\n",
    "\n",
    "plt.title('Confusion Matrix for Training Model\\n(Logistic Regression)', fontsize=18, color='darkblue')\n",
    "plt.ylabel('True label', fontsize=14)\n",
    "plt.xlabel('Predicted label', fontsize=14)\n",
    "plt.tight_layout()\n",
    "plt.show()"
   ]
  }
 ],
 "metadata": {
  "kernelspec": {
   "display_name": "Python 3 (ipykernel)",
   "language": "python",
   "name": "python3"
  },
  "language_info": {
   "codemirror_mode": {
    "name": "ipython",
    "version": 3
   },
   "file_extension": ".py",
   "mimetype": "text/x-python",
   "name": "python",
   "nbconvert_exporter": "python",
   "pygments_lexer": "ipython3",
   "version": "3.9.6"
  }
 },
 "nbformat": 4,
 "nbformat_minor": 5
}
