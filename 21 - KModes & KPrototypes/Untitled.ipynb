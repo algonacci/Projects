{
 "cells": [
  {
   "cell_type": "markdown",
   "id": "6011e684",
   "metadata": {},
   "source": [
    "### Import Libraries"
   ]
  },
  {
   "cell_type": "code",
   "execution_count": 2,
   "id": "72d48e96",
   "metadata": {},
   "outputs": [],
   "source": [
    "import pandas as pd  \n",
    "import matplotlib.pyplot as plt  \n",
    "import seaborn as sns  \n",
    "from sklearn.preprocessing import LabelEncoder  \n",
    "  \n",
    "from kmodes.kmodes import KModes  \n",
    "from kmodes.kprototypes import KPrototypes  \n",
    "  \n",
    "import pickle  \n",
    "from pathlib import Path  "
   ]
  },
  {
   "cell_type": "markdown",
   "id": "0a1c85b5",
   "metadata": {},
   "source": [
    "### Load Dataset"
   ]
  },
  {
   "cell_type": "code",
   "execution_count": 7,
   "id": "3c537c5b",
   "metadata": {},
   "outputs": [],
   "source": [
    "df = pd.read_csv(\"https://storage.googleapis.com/dqlab-dataset/customer_segments.txt\", sep=\"\\t\")"
   ]
  },
  {
   "cell_type": "markdown",
   "id": "98c5b614",
   "metadata": {},
   "source": [
    "### Exploratory Data Analysis"
   ]
  },
  {
   "cell_type": "code",
   "execution_count": 8,
   "id": "6a958257",
   "metadata": {},
   "outputs": [
    {
     "data": {
      "text/html": [
       "<div>\n",
       "<style scoped>\n",
       "    .dataframe tbody tr th:only-of-type {\n",
       "        vertical-align: middle;\n",
       "    }\n",
       "\n",
       "    .dataframe tbody tr th {\n",
       "        vertical-align: top;\n",
       "    }\n",
       "\n",
       "    .dataframe thead th {\n",
       "        text-align: right;\n",
       "    }\n",
       "</style>\n",
       "<table border=\"1\" class=\"dataframe\">\n",
       "  <thead>\n",
       "    <tr style=\"text-align: right;\">\n",
       "      <th></th>\n",
       "      <th>Customer_ID</th>\n",
       "      <th>Nama Pelanggan</th>\n",
       "      <th>Jenis Kelamin</th>\n",
       "      <th>Umur</th>\n",
       "      <th>Profesi</th>\n",
       "      <th>Tipe Residen</th>\n",
       "      <th>NilaiBelanjaSetahun</th>\n",
       "    </tr>\n",
       "  </thead>\n",
       "  <tbody>\n",
       "    <tr>\n",
       "      <th>0</th>\n",
       "      <td>CUST-001</td>\n",
       "      <td>Budi Anggara</td>\n",
       "      <td>Pria</td>\n",
       "      <td>58</td>\n",
       "      <td>Wiraswasta</td>\n",
       "      <td>Sector</td>\n",
       "      <td>9497927</td>\n",
       "    </tr>\n",
       "    <tr>\n",
       "      <th>1</th>\n",
       "      <td>CUST-002</td>\n",
       "      <td>Shirley Ratuwati</td>\n",
       "      <td>Wanita</td>\n",
       "      <td>14</td>\n",
       "      <td>Pelajar</td>\n",
       "      <td>Cluster</td>\n",
       "      <td>2722700</td>\n",
       "    </tr>\n",
       "    <tr>\n",
       "      <th>2</th>\n",
       "      <td>CUST-003</td>\n",
       "      <td>Agus Cahyono</td>\n",
       "      <td>Pria</td>\n",
       "      <td>48</td>\n",
       "      <td>Professional</td>\n",
       "      <td>Cluster</td>\n",
       "      <td>5286429</td>\n",
       "    </tr>\n",
       "    <tr>\n",
       "      <th>3</th>\n",
       "      <td>CUST-004</td>\n",
       "      <td>Antonius Winarta</td>\n",
       "      <td>Pria</td>\n",
       "      <td>53</td>\n",
       "      <td>Professional</td>\n",
       "      <td>Cluster</td>\n",
       "      <td>5204498</td>\n",
       "    </tr>\n",
       "    <tr>\n",
       "      <th>4</th>\n",
       "      <td>CUST-005</td>\n",
       "      <td>Ibu Sri Wahyuni, IR</td>\n",
       "      <td>Wanita</td>\n",
       "      <td>41</td>\n",
       "      <td>Wiraswasta</td>\n",
       "      <td>Cluster</td>\n",
       "      <td>10615206</td>\n",
       "    </tr>\n",
       "  </tbody>\n",
       "</table>\n",
       "</div>"
      ],
      "text/plain": [
       "  Customer_ID       Nama Pelanggan Jenis Kelamin  Umur       Profesi  \\\n",
       "0    CUST-001         Budi Anggara          Pria    58    Wiraswasta   \n",
       "1    CUST-002     Shirley Ratuwati        Wanita    14       Pelajar   \n",
       "2    CUST-003         Agus Cahyono          Pria    48  Professional   \n",
       "3    CUST-004     Antonius Winarta          Pria    53  Professional   \n",
       "4    CUST-005  Ibu Sri Wahyuni, IR        Wanita    41    Wiraswasta   \n",
       "\n",
       "  Tipe Residen  NilaiBelanjaSetahun  \n",
       "0       Sector              9497927  \n",
       "1      Cluster              2722700  \n",
       "2      Cluster              5286429  \n",
       "3      Cluster              5204498  \n",
       "4      Cluster             10615206  "
      ]
     },
     "execution_count": 8,
     "metadata": {},
     "output_type": "execute_result"
    }
   ],
   "source": [
    "df.head()"
   ]
  },
  {
   "cell_type": "code",
   "execution_count": 6,
   "id": "0877709b",
   "metadata": {},
   "outputs": [
    {
     "name": "stdout",
     "output_type": "stream",
     "text": [
      "<class 'pandas.core.frame.DataFrame'>\n",
      "RangeIndex: 50 entries, 0 to 49\n",
      "Data columns (total 7 columns):\n",
      " #   Column               Non-Null Count  Dtype \n",
      "---  ------               --------------  ----- \n",
      " 0   Customer_ID          50 non-null     object\n",
      " 1   Nama Pelanggan       50 non-null     object\n",
      " 2   Jenis Kelamin        50 non-null     object\n",
      " 3   Umur                 50 non-null     int64 \n",
      " 4   Profesi              50 non-null     object\n",
      " 5   Tipe Residen         50 non-null     object\n",
      " 6   NilaiBelanjaSetahun  50 non-null     int64 \n",
      "dtypes: int64(2), object(5)\n",
      "memory usage: 2.9+ KB\n"
     ]
    }
   ],
   "source": [
    "df.info()"
   ]
  },
  {
   "cell_type": "code",
   "execution_count": 14,
   "id": "8a726e45",
   "metadata": {},
   "outputs": [],
   "source": [
    "def observasi_num(features):  \n",
    "    fig, axs = plt.subplots(2, 2, figsize=(10, 9))\n",
    "    for i, kol in enumerate(features):\n",
    "        sns.boxplot(df[kol], ax = axs[i][0])\n",
    "        sns.distplot(df[kol], ax = axs[i][1])\n",
    "        axs[i][0].set_title('mean = %.2f\\n median = %.2f\\n std = %.2f'%(df[kol].mean(), df[kol].median(), df[kol].std()))\n",
    "    plt.setp(axs)\n",
    "    plt.tight_layout()\n",
    "    plt.show()  "
   ]
  },
  {
   "cell_type": "code",
   "execution_count": 15,
   "id": "5e0d776d",
   "metadata": {
    "scrolled": false
   },
   "outputs": [
    {
     "name": "stdout",
     "output_type": "stream",
     "text": [
      "  adjustable: {'box', 'datalim'}\n",
      "  agg_filter: a filter function, which takes a (m, n, 3) float array and a dpi value, and returns a (m, n, 3) array\n",
      "  alpha: scalar or None\n",
      "  anchor: (float, float) or {'C', 'SW', 'S', 'SE', 'E', 'NE', ...}\n",
      "  animated: bool\n",
      "  aspect: {'auto', 'equal'} or float\n",
      "  autoscale_on: bool\n",
      "  autoscalex_on: bool\n",
      "  autoscaley_on: bool\n",
      "  axes_locator: Callable[[Axes, Renderer], Bbox]\n",
      "  axisbelow: bool or 'line'\n",
      "  box_aspect: float or None\n",
      "  clip_box: `.Bbox`\n",
      "  clip_on: bool\n",
      "  clip_path: Patch or (Path, Transform) or None\n",
      "  facecolor or fc: color\n",
      "  figure: `.Figure`\n",
      "  frame_on: bool\n",
      "  gid: str\n",
      "  in_layout: bool\n",
      "  label: object\n",
      "  navigate: bool\n",
      "  navigate_mode: unknown\n",
      "  path_effects: `.AbstractPathEffect`\n",
      "  picker: None or bool or float or callable\n",
      "  position: [left, bottom, width, height] or `~matplotlib.transforms.Bbox`\n",
      "  prop_cycle: unknown\n",
      "  rasterization_zorder: float or None\n",
      "  rasterized: bool\n",
      "  sketch_params: (scale: float, length: float, randomness: float)\n",
      "  snap: bool or None\n",
      "  subplotspec: unknown\n",
      "  title: str\n",
      "  transform: `.Transform`\n",
      "  url: str\n",
      "  visible: bool\n",
      "  xbound: unknown\n",
      "  xlabel: str\n",
      "  xlim: (bottom: float, top: float)\n",
      "  xmargin: float greater than -0.5\n",
      "  xscale: {\"linear\", \"log\", \"symlog\", \"logit\", ...} or `.ScaleBase`\n",
      "  xticklabels: unknown\n",
      "  xticks: unknown\n",
      "  ybound: unknown\n",
      "  ylabel: str\n",
      "  ylim: (bottom: float, top: float)\n",
      "  ymargin: float greater than -0.5\n",
      "  yscale: {\"linear\", \"log\", \"symlog\", \"logit\", ...} or `.ScaleBase`\n",
      "  yticklabels: unknown\n",
      "  yticks: unknown\n",
      "  zorder: float\n"
     ]
    },
    {
     "data": {
      "image/png": "[encoded data removed]",
      "text/plain": [
       "<Figure size 720x648 with 4 Axes>"
      ]
     },
     "metadata": {},
     "output_type": "display_data"
    }
   ],
   "source": [
    "import warnings\n",
    "warnings.filterwarnings('ignore')\n",
    "\n",
    "kolom_numerik = ['Umur','NilaiBelanjaSetahun']\n",
    "observasi_num(kolom_numerik) "
   ]
  },
  {
   "cell_type": "markdown",
   "id": "f1d7d57c",
   "metadata": {},
   "source": [
    "### Data Processing"
   ]
  },
  {
   "cell_type": "code",
   "execution_count": 17,
   "id": "a8689d58",
   "metadata": {},
   "outputs": [
    {
     "name": "stdout",
     "output_type": "stream",
     "text": [
      "Statistik Sebelum Standardisasi\n",
      "\n",
      "       Umur  NilaiBelanjaSetahun\n",
      "count  50.0                 50.0\n",
      "mean   37.5            7069874.8\n",
      "std    14.7            2590619.0\n",
      "min    14.0            2722700.0\n",
      "25%    25.0            5257529.8\n",
      "50%    35.0            5980077.0\n",
      "75%    49.8            9739615.0\n",
      "max    64.0           10884508.0\n"
     ]
    }
   ],
   "source": [
    "### Before Processing\n",
    "print('Statistik Sebelum Standardisasi\\n')  \n",
    "print(df[kolom_numerik ].describe().round(1))  "
   ]
  },
  {
   "cell_type": "code",
   "execution_count": 18,
   "id": "adc343bd",
   "metadata": {},
   "outputs": [],
   "source": [
    "from sklearn.preprocessing import StandardScaler\n",
    "df_std = StandardScaler().fit_transform(df[kolom_numerik])  "
   ]
  },
  {
   "cell_type": "code",
   "execution_count": 19,
   "id": "1006823a",
   "metadata": {},
   "outputs": [],
   "source": [
    "df_std = pd.DataFrame(data=df_std, index=df.index, columns=df[kolom_numerik].columns)  "
   ]
  },
  {
   "cell_type": "code",
   "execution_count": 20,
   "id": "f7646c13",
   "metadata": {},
   "outputs": [
    {
     "name": "stdout",
     "output_type": "stream",
     "text": [
      "Contoh hasil standardisasi\n",
      "\n",
      "       Umur  NilaiBelanjaSetahun\n",
      "0  1.411245             0.946763\n",
      "1 -1.617768            -1.695081\n",
      "2  0.722833            -0.695414\n",
      "3  1.067039            -0.727361\n",
      "4  0.240944             1.382421\n",
      "Statistik hasil standardisasi\n",
      "\n",
      "       Umur  NilaiBelanjaSetahun\n",
      "count  50.0                 50.0\n",
      "mean   -0.0                 -0.0\n",
      "std     1.0                  1.0\n",
      "min    -2.0                 -2.0\n",
      "25%    -1.0                 -1.0\n",
      "50%    -0.0                 -0.0\n",
      "75%     1.0                  1.0\n",
      "max     2.0                  1.0\n"
     ]
    }
   ],
   "source": [
    "print('Contoh hasil standardisasi\\n')  \n",
    "print(df_std.head())  \n",
    "  \n",
    "print('Statistik hasil standardisasi\\n')  \n",
    "print(df_std.describe().round(0)) "
   ]
  },
  {
   "cell_type": "code",
   "execution_count": 22,
   "id": "2cde26ea",
   "metadata": {},
   "outputs": [],
   "source": [
    "from sklearn.preprocessing import LabelEncoder\n",
    "kolom_kategorikal = ['Jenis Kelamin','Profesi','Tipe Residen'] "
   ]
  },
  {
   "cell_type": "code",
   "execution_count": 23,
   "id": "35dbb818",
   "metadata": {},
   "outputs": [],
   "source": [
    "df_encode = df[kolom_kategorikal].copy()"
   ]
  },
  {
   "cell_type": "code",
   "execution_count": 24,
   "id": "dde2452a",
   "metadata": {},
   "outputs": [],
   "source": [
    "for col in kolom_kategorikal:  \n",
    "    df_encode[col] = LabelEncoder().fit_transform(df_encode[col])  "
   ]
  },
  {
   "cell_type": "code",
   "execution_count": 25,
   "id": "ddcf5988",
   "metadata": {},
   "outputs": [
    {
     "data": {
      "text/html": [
       "<div>\n",
       "<style scoped>\n",
       "    .dataframe tbody tr th:only-of-type {\n",
       "        vertical-align: middle;\n",
       "    }\n",
       "\n",
       "    .dataframe tbody tr th {\n",
       "        vertical-align: top;\n",
       "    }\n",
       "\n",
       "    .dataframe thead th {\n",
       "        text-align: right;\n",
       "    }\n",
       "</style>\n",
       "<table border=\"1\" class=\"dataframe\">\n",
       "  <thead>\n",
       "    <tr style=\"text-align: right;\">\n",
       "      <th></th>\n",
       "      <th>Jenis Kelamin</th>\n",
       "      <th>Profesi</th>\n",
       "      <th>Tipe Residen</th>\n",
       "    </tr>\n",
       "  </thead>\n",
       "  <tbody>\n",
       "    <tr>\n",
       "      <th>0</th>\n",
       "      <td>0</td>\n",
       "      <td>4</td>\n",
       "      <td>1</td>\n",
       "    </tr>\n",
       "    <tr>\n",
       "      <th>1</th>\n",
       "      <td>1</td>\n",
       "      <td>2</td>\n",
       "      <td>0</td>\n",
       "    </tr>\n",
       "    <tr>\n",
       "      <th>2</th>\n",
       "      <td>0</td>\n",
       "      <td>3</td>\n",
       "      <td>0</td>\n",
       "    </tr>\n",
       "    <tr>\n",
       "      <th>3</th>\n",
       "      <td>0</td>\n",
       "      <td>3</td>\n",
       "      <td>0</td>\n",
       "    </tr>\n",
       "    <tr>\n",
       "      <th>4</th>\n",
       "      <td>1</td>\n",
       "      <td>4</td>\n",
       "      <td>0</td>\n",
       "    </tr>\n",
       "  </tbody>\n",
       "</table>\n",
       "</div>"
      ],
      "text/plain": [
       "   Jenis Kelamin  Profesi  Tipe Residen\n",
       "0              0        4             1\n",
       "1              1        2             0\n",
       "2              0        3             0\n",
       "3              0        3             0\n",
       "4              1        4             0"
      ]
     },
     "execution_count": 25,
     "metadata": {},
     "output_type": "execute_result"
    }
   ],
   "source": [
    "df_encode.head()"
   ]
  }
 ],
 "metadata": {
  "kernelspec": {
   "display_name": "Python 3 (ipykernel)",
   "language": "python",
   "name": "python3"
  },
  "language_info": {
   "codemirror_mode": {
    "name": "ipython",
    "version": 3
   },
   "file_extension": ".py",
   "mimetype": "text/x-python",
   "name": "python",
   "nbconvert_exporter": "python",
   "pygments_lexer": "ipython3",
   "version": "3.10.4"
  }
 },
 "nbformat": 4,
 "nbformat_minor": 5
}
